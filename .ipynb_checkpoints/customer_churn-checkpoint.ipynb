{
 "cells": [
  {
   "cell_type": "markdown",
   "metadata": {
    "toc": true
   },
   "source": [
    "<h1>Содержание<span class=\"tocSkip\"></span></h1>\n",
    "<div class=\"toc\"><ul class=\"toc-item\"><li><span><a href=\"#Подготовка-данных\" data-toc-modified-id=\"Подготовка-данных-1\"><span class=\"toc-item-num\">1&nbsp;&nbsp;</span>Подготовка данных</a></span><ul class=\"toc-item\"><li><span><a href=\"#Загрузка-данных-и-проверка-датасета\" data-toc-modified-id=\"Загрузка-данных-и-проверка-датасета-1.1\"><span class=\"toc-item-num\">1.1&nbsp;&nbsp;</span>Загрузка данных и проверка датасета</a></span></li><li><span><a href=\"#Кодирование-категориальных-признаков\" data-toc-modified-id=\"Кодирование-категориальных-признаков-1.2\"><span class=\"toc-item-num\">1.2&nbsp;&nbsp;</span>Кодирование категориальных признаков</a></span></li></ul></li><li><span><a href=\"#Исследование-задачи\" data-toc-modified-id=\"Исследование-задачи-2\"><span class=\"toc-item-num\">2&nbsp;&nbsp;</span>Исследование задачи</a></span><ul class=\"toc-item\"><li><span><a href=\"#Исследование-баланса-классов\" data-toc-modified-id=\"Исследование-баланса-классов-2.1\"><span class=\"toc-item-num\">2.1&nbsp;&nbsp;</span>Исследование баланса классов</a></span></li><li><span><a href=\"#Изучение-модели-без-учёта-дисбаланса-классов\" data-toc-modified-id=\"Изучение-модели-без-учёта-дисбаланса-классов-2.2\"><span class=\"toc-item-num\">2.2&nbsp;&nbsp;</span>Изучение модели без учёта дисбаланса классов</a></span><ul class=\"toc-item\"><li><span><a href=\"#Модель-решающего-дерева\" data-toc-modified-id=\"Модель-решающего-дерева-2.2.1\"><span class=\"toc-item-num\">2.2.1&nbsp;&nbsp;</span>Модель решающего дерева</a></span></li><li><span><a href=\"#Модель-случайного-леса\" data-toc-modified-id=\"Модель-случайного-леса-2.2.2\"><span class=\"toc-item-num\">2.2.2&nbsp;&nbsp;</span>Модель случайного леса</a></span></li><li><span><a href=\"#Модель-логистической-регрессии\" data-toc-modified-id=\"Модель-логистической-регрессии-2.2.3\"><span class=\"toc-item-num\">2.2.3&nbsp;&nbsp;</span>Модель логистической регрессии</a></span></li></ul></li></ul></li><li><span><a href=\"#Борьба-с-дисбалансом\" data-toc-modified-id=\"Борьба-с-дисбалансом-3\"><span class=\"toc-item-num\">3&nbsp;&nbsp;</span>Борьба с дисбалансом</a></span><ul class=\"toc-item\"><li><span><a href=\"#Взвешивание-классов\" data-toc-modified-id=\"Взвешивание-классов-3.1\"><span class=\"toc-item-num\">3.1&nbsp;&nbsp;</span>Взвешивание классов</a></span></li><li><span><a href=\"#Увеличение-выборки\" data-toc-modified-id=\"Увеличение-выборки-3.2\"><span class=\"toc-item-num\">3.2&nbsp;&nbsp;</span>Увеличение выборки</a></span></li><li><span><a href=\"#Уменьшение-выборки\" data-toc-modified-id=\"Уменьшение-выборки-3.3\"><span class=\"toc-item-num\">3.3&nbsp;&nbsp;</span>Уменьшение выборки</a></span></li></ul></li><li><span><a href=\"#Тестирование-модели\" data-toc-modified-id=\"Тестирование-модели-4\"><span class=\"toc-item-num\">4&nbsp;&nbsp;</span>Тестирование модели</a></span><ul class=\"toc-item\"><li><span><a href=\"#Подготовка-моделей\" data-toc-modified-id=\"Подготовка-моделей-4.1\"><span class=\"toc-item-num\">4.1&nbsp;&nbsp;</span>Подготовка моделей</a></span></li><li><span><a href=\"#Финальное-тестирование\" data-toc-modified-id=\"Финальное-тестирование-4.2\"><span class=\"toc-item-num\">4.2&nbsp;&nbsp;</span>Финальное тестирование</a></span></li></ul></li><li><span><a href=\"#Чек-лист-готовности-проекта\" data-toc-modified-id=\"Чек-лист-готовности-проекта-5\"><span class=\"toc-item-num\">5&nbsp;&nbsp;</span>Чек-лист готовности проекта</a></span></li><li><span><a href=\"#Итоговые-выводы-по-проекту\" data-toc-modified-id=\"Итоговые-выводы-по-проекту-6\"><span class=\"toc-item-num\">6&nbsp;&nbsp;</span>Итоговые выводы по проекту</a></span></li></ul></div>"
   ]
  },
  {
   "cell_type": "markdown",
   "metadata": {},
   "source": [
    "# Отток клиентов"
   ]
  },
  {
   "cell_type": "markdown",
   "metadata": {},
   "source": [
    "Из «Бета-Банка» стали уходить клиенты. Каждый месяц. Немного, но заметно. Банковские маркетологи посчитали: сохранять текущих клиентов дешевле, чем привлекать новых.\n",
    "\n",
    "Нужно спрогнозировать, уйдёт клиент из банка в ближайшее время или нет. Вам предоставлены исторические данные о поведении клиентов и расторжении договоров с банком. \n",
    "\n",
    "Постройте модель с предельно большим значением *F1*-меры. Чтобы сдать проект успешно, нужно довести метрику до 0.59. Проверьте *F1*-меру на тестовой выборке самостоятельно.\n",
    "\n",
    "Дополнительно измеряйте *AUC-ROC*, сравнивайте её значение с *F1*-мерой.\n",
    "\n",
    "Источник данных: [https://www.kaggle.com/barelydedicated/bank-customer-churn-modeling](https://www.kaggle.com/barelydedicated/bank-customer-churn-modeling)"
   ]
  },
  {
   "cell_type": "markdown",
   "metadata": {},
   "source": [
    "<b>Порядок выполнения проекта:</b>\n",
    "1. Загрузка и подготовка данные.\n",
    "1. Исследование баланс классов, обучение модели без учёта дисбаланса.\n",
    "1. Улучшение качества модели, с учетом дисбаланса классов. Обучение разных моделей и поиск лучшей.\n",
    "1. Проведение финального тестирования."
   ]
  },
  {
   "cell_type": "markdown",
   "metadata": {},
   "source": [
    "<b>Описание данных:</b>\n",
    "<br>Данные находятся в файле /datasets/Churn.csv (англ. «отток клиентов»).\n"
   ]
  },
  {
   "cell_type": "markdown",
   "metadata": {},
   "source": [
    "Признаки:\n",
    "* RowNumber — индекс строки в данных\n",
    "* CustomerId — уникальный идентификатор клиента\n",
    "* Surname — фамилия\n",
    "* CreditScore — кредитный рейтинг\n",
    "* Geography — страна проживания\n",
    "* Gender — пол\n",
    "* Age — возраст\n",
    "* Tenure — сколько лет человек является клиентом банка\n",
    "* Balance — баланс на счёте\n",
    "* NumOfProducts — количество продуктов банка, используемых клиентом\n",
    "* HasCrCard — наличие кредитной карты\n",
    "* IsActiveMember — активность клиента\n",
    "* EstimatedSalary — предполагаемая зарплата"
   ]
  },
  {
   "cell_type": "markdown",
   "metadata": {},
   "source": [
    "Целевой признак:\n",
    "* Exited — факт ухода клиента"
   ]
  },
  {
   "cell_type": "code",
   "execution_count": 1,
   "metadata": {},
   "outputs": [],
   "source": [
    "#импорт библиотек\n",
    "\n",
    "#основные\n",
    "import pandas as pd\n",
    "import numpy as np\n",
    "from tqdm import tqdm\n",
    "\n",
    "#математика\n",
    "import math\n",
    "from math import factorial\n",
    "from math import sqrt\n",
    "import random\n",
    "\n",
    "#статистика\n",
    "from scipy import stats\n",
    "from scipy.stats import binom\n",
    "\n",
    "#графики\n",
    "import matplotlib.pyplot as plt\n",
    "from sklearn import tree\n",
    "\n",
    "#машинное обучение - общее\n",
    "from sklearn.model_selection import train_test_split\n",
    "from sklearn.dummy import DummyClassifier\n",
    "from sklearn.metrics import mean_squared_error\n",
    "from sklearn.utils import shuffle\n",
    "from sklearn.preprocessing import StandardScaler \n",
    "\n",
    "#машинное обучение - классификация\n",
    "from sklearn.tree import DecisionTreeClassifier\n",
    "from sklearn.ensemble import RandomForestClassifier\n",
    "from sklearn.linear_model import LogisticRegression\n",
    "from sklearn.metrics import accuracy_score\n",
    "from sklearn.metrics import recall_score\n",
    "from sklearn.metrics import precision_score\n",
    "from sklearn.metrics import f1_score\n",
    "from sklearn.metrics import roc_curve\n",
    "from sklearn.metrics import roc_auc_score"
   ]
  },
  {
   "cell_type": "code",
   "execution_count": 2,
   "metadata": {},
   "outputs": [],
   "source": [
    "def explain_dataset(dataset, hist_on):\n",
    "    dataset.info()\n",
    "    print()\n",
    "    print('количество полных дубликатов в таблице =', dataset.duplicated().sum())\n",
    "    pd.set_option('display.max_columns', None)\n",
    "    display(dataset.describe())\n",
    "    display(dataset.head(10))\n",
    "    if hist_on: dataset.hist(figsize=(15, 20), bins=30);"
   ]
  },
  {
   "cell_type": "code",
   "execution_count": 3,
   "metadata": {},
   "outputs": [],
   "source": [
    "def upsample(features, target, repeat):\n",
    "    features_zeros = features[target == 0]\n",
    "    features_ones = features[target == 1]\n",
    "    target_zeros = target[target == 0]\n",
    "    target_ones = target[target == 1]\n",
    "\n",
    "    features_upsampled = pd.concat([features_zeros] + [features_ones] * repeat)\n",
    "    target_upsampled = pd.concat([target_zeros] + [target_ones] * repeat)\n",
    "    \n",
    "    features_upsampled, target_upsampled = shuffle(\n",
    "        features_upsampled, target_upsampled, random_state=12345)\n",
    "    \n",
    "    return features_upsampled, target_upsampled"
   ]
  },
  {
   "cell_type": "code",
   "execution_count": 4,
   "metadata": {},
   "outputs": [],
   "source": [
    "def downsample(features, target, fraction):\n",
    "    features_zeros = features[target == 0]\n",
    "    features_ones = features[target == 1]\n",
    "    target_zeros = target[target == 0]\n",
    "    target_ones = target[target == 1]\n",
    "\n",
    "    features_downsampled = pd.concat(\n",
    "        [features_zeros.sample(frac=fraction, random_state=12345)] + [features_ones])\n",
    "    target_downsampled = pd.concat(\n",
    "        [target_zeros.sample(frac=fraction, random_state=12345)] + [target_ones])\n",
    "    \n",
    "    features_downsampled, target_downsampled = shuffle(\n",
    "        features_downsampled, target_downsampled, random_state=12345)\n",
    "    \n",
    "    return features_downsampled, target_downsampled"
   ]
  },
  {
   "cell_type": "markdown",
   "metadata": {},
   "source": [
    "## Подготовка данных"
   ]
  },
  {
   "cell_type": "markdown",
   "metadata": {},
   "source": [
    "### Загрузка данных и проверка датасета"
   ]
  },
  {
   "cell_type": "code",
   "execution_count": 5,
   "metadata": {},
   "outputs": [
    {
     "name": "stdout",
     "output_type": "stream",
     "text": [
      "<class 'pandas.core.frame.DataFrame'>\n",
      "RangeIndex: 10000 entries, 0 to 9999\n",
      "Data columns (total 14 columns):\n",
      " #   Column           Non-Null Count  Dtype  \n",
      "---  ------           --------------  -----  \n",
      " 0   RowNumber        10000 non-null  int64  \n",
      " 1   CustomerId       10000 non-null  int64  \n",
      " 2   Surname          10000 non-null  object \n",
      " 3   CreditScore      10000 non-null  int64  \n",
      " 4   Geography        10000 non-null  object \n",
      " 5   Gender           10000 non-null  object \n",
      " 6   Age              10000 non-null  int64  \n",
      " 7   Tenure           9091 non-null   float64\n",
      " 8   Balance          10000 non-null  float64\n",
      " 9   NumOfProducts    10000 non-null  int64  \n",
      " 10  HasCrCard        10000 non-null  int64  \n",
      " 11  IsActiveMember   10000 non-null  int64  \n",
      " 12  EstimatedSalary  10000 non-null  float64\n",
      " 13  Exited           10000 non-null  int64  \n",
      "dtypes: float64(3), int64(8), object(3)\n",
      "memory usage: 1.1+ MB\n",
      "\n",
      "количество полных дубликатов в таблице = 0\n"
     ]
    },
    {
     "data": {
      "text/html": [
       "<div>\n",
       "<style scoped>\n",
       "    .dataframe tbody tr th:only-of-type {\n",
       "        vertical-align: middle;\n",
       "    }\n",
       "\n",
       "    .dataframe tbody tr th {\n",
       "        vertical-align: top;\n",
       "    }\n",
       "\n",
       "    .dataframe thead th {\n",
       "        text-align: right;\n",
       "    }\n",
       "</style>\n",
       "<table border=\"1\" class=\"dataframe\">\n",
       "  <thead>\n",
       "    <tr style=\"text-align: right;\">\n",
       "      <th></th>\n",
       "      <th>RowNumber</th>\n",
       "      <th>CustomerId</th>\n",
       "      <th>CreditScore</th>\n",
       "      <th>Age</th>\n",
       "      <th>Tenure</th>\n",
       "      <th>Balance</th>\n",
       "      <th>NumOfProducts</th>\n",
       "      <th>HasCrCard</th>\n",
       "      <th>IsActiveMember</th>\n",
       "      <th>EstimatedSalary</th>\n",
       "      <th>Exited</th>\n",
       "    </tr>\n",
       "  </thead>\n",
       "  <tbody>\n",
       "    <tr>\n",
       "      <th>count</th>\n",
       "      <td>10000.00000</td>\n",
       "      <td>1.000000e+04</td>\n",
       "      <td>10000.000000</td>\n",
       "      <td>10000.000000</td>\n",
       "      <td>9091.000000</td>\n",
       "      <td>10000.000000</td>\n",
       "      <td>10000.000000</td>\n",
       "      <td>10000.00000</td>\n",
       "      <td>10000.000000</td>\n",
       "      <td>10000.000000</td>\n",
       "      <td>10000.000000</td>\n",
       "    </tr>\n",
       "    <tr>\n",
       "      <th>mean</th>\n",
       "      <td>5000.50000</td>\n",
       "      <td>1.569094e+07</td>\n",
       "      <td>650.528800</td>\n",
       "      <td>38.921800</td>\n",
       "      <td>4.997690</td>\n",
       "      <td>76485.889288</td>\n",
       "      <td>1.530200</td>\n",
       "      <td>0.70550</td>\n",
       "      <td>0.515100</td>\n",
       "      <td>100090.239881</td>\n",
       "      <td>0.203700</td>\n",
       "    </tr>\n",
       "    <tr>\n",
       "      <th>std</th>\n",
       "      <td>2886.89568</td>\n",
       "      <td>7.193619e+04</td>\n",
       "      <td>96.653299</td>\n",
       "      <td>10.487806</td>\n",
       "      <td>2.894723</td>\n",
       "      <td>62397.405202</td>\n",
       "      <td>0.581654</td>\n",
       "      <td>0.45584</td>\n",
       "      <td>0.499797</td>\n",
       "      <td>57510.492818</td>\n",
       "      <td>0.402769</td>\n",
       "    </tr>\n",
       "    <tr>\n",
       "      <th>min</th>\n",
       "      <td>1.00000</td>\n",
       "      <td>1.556570e+07</td>\n",
       "      <td>350.000000</td>\n",
       "      <td>18.000000</td>\n",
       "      <td>0.000000</td>\n",
       "      <td>0.000000</td>\n",
       "      <td>1.000000</td>\n",
       "      <td>0.00000</td>\n",
       "      <td>0.000000</td>\n",
       "      <td>11.580000</td>\n",
       "      <td>0.000000</td>\n",
       "    </tr>\n",
       "    <tr>\n",
       "      <th>25%</th>\n",
       "      <td>2500.75000</td>\n",
       "      <td>1.562853e+07</td>\n",
       "      <td>584.000000</td>\n",
       "      <td>32.000000</td>\n",
       "      <td>2.000000</td>\n",
       "      <td>0.000000</td>\n",
       "      <td>1.000000</td>\n",
       "      <td>0.00000</td>\n",
       "      <td>0.000000</td>\n",
       "      <td>51002.110000</td>\n",
       "      <td>0.000000</td>\n",
       "    </tr>\n",
       "    <tr>\n",
       "      <th>50%</th>\n",
       "      <td>5000.50000</td>\n",
       "      <td>1.569074e+07</td>\n",
       "      <td>652.000000</td>\n",
       "      <td>37.000000</td>\n",
       "      <td>5.000000</td>\n",
       "      <td>97198.540000</td>\n",
       "      <td>1.000000</td>\n",
       "      <td>1.00000</td>\n",
       "      <td>1.000000</td>\n",
       "      <td>100193.915000</td>\n",
       "      <td>0.000000</td>\n",
       "    </tr>\n",
       "    <tr>\n",
       "      <th>75%</th>\n",
       "      <td>7500.25000</td>\n",
       "      <td>1.575323e+07</td>\n",
       "      <td>718.000000</td>\n",
       "      <td>44.000000</td>\n",
       "      <td>7.000000</td>\n",
       "      <td>127644.240000</td>\n",
       "      <td>2.000000</td>\n",
       "      <td>1.00000</td>\n",
       "      <td>1.000000</td>\n",
       "      <td>149388.247500</td>\n",
       "      <td>0.000000</td>\n",
       "    </tr>\n",
       "    <tr>\n",
       "      <th>max</th>\n",
       "      <td>10000.00000</td>\n",
       "      <td>1.581569e+07</td>\n",
       "      <td>850.000000</td>\n",
       "      <td>92.000000</td>\n",
       "      <td>10.000000</td>\n",
       "      <td>250898.090000</td>\n",
       "      <td>4.000000</td>\n",
       "      <td>1.00000</td>\n",
       "      <td>1.000000</td>\n",
       "      <td>199992.480000</td>\n",
       "      <td>1.000000</td>\n",
       "    </tr>\n",
       "  </tbody>\n",
       "</table>\n",
       "</div>"
      ],
      "text/plain": [
       "         RowNumber    CustomerId   CreditScore           Age       Tenure  \\\n",
       "count  10000.00000  1.000000e+04  10000.000000  10000.000000  9091.000000   \n",
       "mean    5000.50000  1.569094e+07    650.528800     38.921800     4.997690   \n",
       "std     2886.89568  7.193619e+04     96.653299     10.487806     2.894723   \n",
       "min        1.00000  1.556570e+07    350.000000     18.000000     0.000000   \n",
       "25%     2500.75000  1.562853e+07    584.000000     32.000000     2.000000   \n",
       "50%     5000.50000  1.569074e+07    652.000000     37.000000     5.000000   \n",
       "75%     7500.25000  1.575323e+07    718.000000     44.000000     7.000000   \n",
       "max    10000.00000  1.581569e+07    850.000000     92.000000    10.000000   \n",
       "\n",
       "             Balance  NumOfProducts    HasCrCard  IsActiveMember  \\\n",
       "count   10000.000000   10000.000000  10000.00000    10000.000000   \n",
       "mean    76485.889288       1.530200      0.70550        0.515100   \n",
       "std     62397.405202       0.581654      0.45584        0.499797   \n",
       "min         0.000000       1.000000      0.00000        0.000000   \n",
       "25%         0.000000       1.000000      0.00000        0.000000   \n",
       "50%     97198.540000       1.000000      1.00000        1.000000   \n",
       "75%    127644.240000       2.000000      1.00000        1.000000   \n",
       "max    250898.090000       4.000000      1.00000        1.000000   \n",
       "\n",
       "       EstimatedSalary        Exited  \n",
       "count     10000.000000  10000.000000  \n",
       "mean     100090.239881      0.203700  \n",
       "std       57510.492818      0.402769  \n",
       "min          11.580000      0.000000  \n",
       "25%       51002.110000      0.000000  \n",
       "50%      100193.915000      0.000000  \n",
       "75%      149388.247500      0.000000  \n",
       "max      199992.480000      1.000000  "
      ]
     },
     "metadata": {},
     "output_type": "display_data"
    },
    {
     "data": {
      "text/html": [
       "<div>\n",
       "<style scoped>\n",
       "    .dataframe tbody tr th:only-of-type {\n",
       "        vertical-align: middle;\n",
       "    }\n",
       "\n",
       "    .dataframe tbody tr th {\n",
       "        vertical-align: top;\n",
       "    }\n",
       "\n",
       "    .dataframe thead th {\n",
       "        text-align: right;\n",
       "    }\n",
       "</style>\n",
       "<table border=\"1\" class=\"dataframe\">\n",
       "  <thead>\n",
       "    <tr style=\"text-align: right;\">\n",
       "      <th></th>\n",
       "      <th>RowNumber</th>\n",
       "      <th>CustomerId</th>\n",
       "      <th>Surname</th>\n",
       "      <th>CreditScore</th>\n",
       "      <th>Geography</th>\n",
       "      <th>Gender</th>\n",
       "      <th>Age</th>\n",
       "      <th>Tenure</th>\n",
       "      <th>Balance</th>\n",
       "      <th>NumOfProducts</th>\n",
       "      <th>HasCrCard</th>\n",
       "      <th>IsActiveMember</th>\n",
       "      <th>EstimatedSalary</th>\n",
       "      <th>Exited</th>\n",
       "    </tr>\n",
       "  </thead>\n",
       "  <tbody>\n",
       "    <tr>\n",
       "      <th>0</th>\n",
       "      <td>1</td>\n",
       "      <td>15634602</td>\n",
       "      <td>Hargrave</td>\n",
       "      <td>619</td>\n",
       "      <td>France</td>\n",
       "      <td>Female</td>\n",
       "      <td>42</td>\n",
       "      <td>2.0</td>\n",
       "      <td>0.00</td>\n",
       "      <td>1</td>\n",
       "      <td>1</td>\n",
       "      <td>1</td>\n",
       "      <td>101348.88</td>\n",
       "      <td>1</td>\n",
       "    </tr>\n",
       "    <tr>\n",
       "      <th>1</th>\n",
       "      <td>2</td>\n",
       "      <td>15647311</td>\n",
       "      <td>Hill</td>\n",
       "      <td>608</td>\n",
       "      <td>Spain</td>\n",
       "      <td>Female</td>\n",
       "      <td>41</td>\n",
       "      <td>1.0</td>\n",
       "      <td>83807.86</td>\n",
       "      <td>1</td>\n",
       "      <td>0</td>\n",
       "      <td>1</td>\n",
       "      <td>112542.58</td>\n",
       "      <td>0</td>\n",
       "    </tr>\n",
       "    <tr>\n",
       "      <th>2</th>\n",
       "      <td>3</td>\n",
       "      <td>15619304</td>\n",
       "      <td>Onio</td>\n",
       "      <td>502</td>\n",
       "      <td>France</td>\n",
       "      <td>Female</td>\n",
       "      <td>42</td>\n",
       "      <td>8.0</td>\n",
       "      <td>159660.80</td>\n",
       "      <td>3</td>\n",
       "      <td>1</td>\n",
       "      <td>0</td>\n",
       "      <td>113931.57</td>\n",
       "      <td>1</td>\n",
       "    </tr>\n",
       "    <tr>\n",
       "      <th>3</th>\n",
       "      <td>4</td>\n",
       "      <td>15701354</td>\n",
       "      <td>Boni</td>\n",
       "      <td>699</td>\n",
       "      <td>France</td>\n",
       "      <td>Female</td>\n",
       "      <td>39</td>\n",
       "      <td>1.0</td>\n",
       "      <td>0.00</td>\n",
       "      <td>2</td>\n",
       "      <td>0</td>\n",
       "      <td>0</td>\n",
       "      <td>93826.63</td>\n",
       "      <td>0</td>\n",
       "    </tr>\n",
       "    <tr>\n",
       "      <th>4</th>\n",
       "      <td>5</td>\n",
       "      <td>15737888</td>\n",
       "      <td>Mitchell</td>\n",
       "      <td>850</td>\n",
       "      <td>Spain</td>\n",
       "      <td>Female</td>\n",
       "      <td>43</td>\n",
       "      <td>2.0</td>\n",
       "      <td>125510.82</td>\n",
       "      <td>1</td>\n",
       "      <td>1</td>\n",
       "      <td>1</td>\n",
       "      <td>79084.10</td>\n",
       "      <td>0</td>\n",
       "    </tr>\n",
       "    <tr>\n",
       "      <th>5</th>\n",
       "      <td>6</td>\n",
       "      <td>15574012</td>\n",
       "      <td>Chu</td>\n",
       "      <td>645</td>\n",
       "      <td>Spain</td>\n",
       "      <td>Male</td>\n",
       "      <td>44</td>\n",
       "      <td>8.0</td>\n",
       "      <td>113755.78</td>\n",
       "      <td>2</td>\n",
       "      <td>1</td>\n",
       "      <td>0</td>\n",
       "      <td>149756.71</td>\n",
       "      <td>1</td>\n",
       "    </tr>\n",
       "    <tr>\n",
       "      <th>6</th>\n",
       "      <td>7</td>\n",
       "      <td>15592531</td>\n",
       "      <td>Bartlett</td>\n",
       "      <td>822</td>\n",
       "      <td>France</td>\n",
       "      <td>Male</td>\n",
       "      <td>50</td>\n",
       "      <td>7.0</td>\n",
       "      <td>0.00</td>\n",
       "      <td>2</td>\n",
       "      <td>1</td>\n",
       "      <td>1</td>\n",
       "      <td>10062.80</td>\n",
       "      <td>0</td>\n",
       "    </tr>\n",
       "    <tr>\n",
       "      <th>7</th>\n",
       "      <td>8</td>\n",
       "      <td>15656148</td>\n",
       "      <td>Obinna</td>\n",
       "      <td>376</td>\n",
       "      <td>Germany</td>\n",
       "      <td>Female</td>\n",
       "      <td>29</td>\n",
       "      <td>4.0</td>\n",
       "      <td>115046.74</td>\n",
       "      <td>4</td>\n",
       "      <td>1</td>\n",
       "      <td>0</td>\n",
       "      <td>119346.88</td>\n",
       "      <td>1</td>\n",
       "    </tr>\n",
       "    <tr>\n",
       "      <th>8</th>\n",
       "      <td>9</td>\n",
       "      <td>15792365</td>\n",
       "      <td>He</td>\n",
       "      <td>501</td>\n",
       "      <td>France</td>\n",
       "      <td>Male</td>\n",
       "      <td>44</td>\n",
       "      <td>4.0</td>\n",
       "      <td>142051.07</td>\n",
       "      <td>2</td>\n",
       "      <td>0</td>\n",
       "      <td>1</td>\n",
       "      <td>74940.50</td>\n",
       "      <td>0</td>\n",
       "    </tr>\n",
       "    <tr>\n",
       "      <th>9</th>\n",
       "      <td>10</td>\n",
       "      <td>15592389</td>\n",
       "      <td>H?</td>\n",
       "      <td>684</td>\n",
       "      <td>France</td>\n",
       "      <td>Male</td>\n",
       "      <td>27</td>\n",
       "      <td>2.0</td>\n",
       "      <td>134603.88</td>\n",
       "      <td>1</td>\n",
       "      <td>1</td>\n",
       "      <td>1</td>\n",
       "      <td>71725.73</td>\n",
       "      <td>0</td>\n",
       "    </tr>\n",
       "  </tbody>\n",
       "</table>\n",
       "</div>"
      ],
      "text/plain": [
       "   RowNumber  CustomerId   Surname  CreditScore Geography  Gender  Age  \\\n",
       "0          1    15634602  Hargrave          619    France  Female   42   \n",
       "1          2    15647311      Hill          608     Spain  Female   41   \n",
       "2          3    15619304      Onio          502    France  Female   42   \n",
       "3          4    15701354      Boni          699    France  Female   39   \n",
       "4          5    15737888  Mitchell          850     Spain  Female   43   \n",
       "5          6    15574012       Chu          645     Spain    Male   44   \n",
       "6          7    15592531  Bartlett          822    France    Male   50   \n",
       "7          8    15656148    Obinna          376   Germany  Female   29   \n",
       "8          9    15792365        He          501    France    Male   44   \n",
       "9         10    15592389        H?          684    France    Male   27   \n",
       "\n",
       "   Tenure    Balance  NumOfProducts  HasCrCard  IsActiveMember  \\\n",
       "0     2.0       0.00              1          1               1   \n",
       "1     1.0   83807.86              1          0               1   \n",
       "2     8.0  159660.80              3          1               0   \n",
       "3     1.0       0.00              2          0               0   \n",
       "4     2.0  125510.82              1          1               1   \n",
       "5     8.0  113755.78              2          1               0   \n",
       "6     7.0       0.00              2          1               1   \n",
       "7     4.0  115046.74              4          1               0   \n",
       "8     4.0  142051.07              2          0               1   \n",
       "9     2.0  134603.88              1          1               1   \n",
       "\n",
       "   EstimatedSalary  Exited  \n",
       "0        101348.88       1  \n",
       "1        112542.58       0  \n",
       "2        113931.57       1  \n",
       "3         93826.63       0  \n",
       "4         79084.10       0  \n",
       "5        149756.71       1  \n",
       "6         10062.80       0  \n",
       "7        119346.88       1  \n",
       "8         74940.50       0  \n",
       "9         71725.73       0  "
      ]
     },
     "metadata": {},
     "output_type": "display_data"
    },
    {
     "data": {
      "image/png": "[encoded data removed]",
      "text/plain": [
       "<Figure size 1080x1440 with 12 Axes>"
      ]
     },
     "metadata": {
      "needs_background": "light"
     },
     "output_type": "display_data"
    }
   ],
   "source": [
    "#импортируем данные из файла /datasets/Churn.csv в датасет data\n",
    "data = pd.read_csv('Churn.csv')\n",
    "\n",
    "#проверяем что информация из таблицы корректно загрузилась в датасет\n",
    "explain_dataset(data, True)"
   ]
  },
  {
   "cell_type": "markdown",
   "metadata": {},
   "source": [
    "Изучение датасета показало, что в признаке Tenure есть пропуски в данных. В рамках исследования мы будет трактовать клинтов с таким значением этого признака, как людей, являющихся клиентами банка менее года. Для корректного обучения моделей лучше заменить null на 0."
   ]
  },
  {
   "cell_type": "code",
   "execution_count": 6,
   "metadata": {},
   "outputs": [],
   "source": [
    "def fill_random(x):\n",
    "    if pd.isnull(x):\n",
    "        return random.randint(1,10)\n",
    "    else:\n",
    "        return x"
   ]
  },
  {
   "cell_type": "code",
   "execution_count": 7,
   "metadata": {},
   "outputs": [
    {
     "name": "stdout",
     "output_type": "stream",
     "text": [
      "<class 'pandas.core.frame.DataFrame'>\n",
      "RangeIndex: 10000 entries, 0 to 9999\n",
      "Data columns (total 14 columns):\n",
      " #   Column           Non-Null Count  Dtype  \n",
      "---  ------           --------------  -----  \n",
      " 0   RowNumber        10000 non-null  int64  \n",
      " 1   CustomerId       10000 non-null  int64  \n",
      " 2   Surname          10000 non-null  object \n",
      " 3   CreditScore      10000 non-null  int64  \n",
      " 4   Geography        10000 non-null  object \n",
      " 5   Gender           10000 non-null  object \n",
      " 6   Age              10000 non-null  int64  \n",
      " 7   Tenure           10000 non-null  float64\n",
      " 8   Balance          10000 non-null  float64\n",
      " 9   NumOfProducts    10000 non-null  int64  \n",
      " 10  HasCrCard        10000 non-null  int64  \n",
      " 11  IsActiveMember   10000 non-null  int64  \n",
      " 12  EstimatedSalary  10000 non-null  float64\n",
      " 13  Exited           10000 non-null  int64  \n",
      "dtypes: float64(3), int64(8), object(3)\n",
      "memory usage: 1.1+ MB\n"
     ]
    }
   ],
   "source": [
    "#заддадим зерно рандома, чтобы при перезапуске тетрадки - числа были одни и те же\n",
    "random.seed(12345)\n",
    "\n",
    "#заполним пропуски в признаке Tenure случайными числами\n",
    "data['Tenure'] = data['Tenure'].apply(fill_random)\n",
    "\n",
    "#проверим, заполнены ли пропуски в признаке\n",
    "data.info()"
   ]
  },
  {
   "cell_type": "markdown",
   "metadata": {},
   "source": [
    "Выводы по п.1.1:\n",
    "- данные импортированы успешно, набор признаков в датасете совпадает с документацией.\n",
    "- датасет содержит 10000 записей, отсутствуют полные дубликаты.\n",
    "- типы данных признаков соответствуют данным, которые в них содержаться.\n",
    "- значения null в признаке Tenure заменили на случайное число от 1 до 10, чтобы не они не влияли на распределение\n",
    "- данные во всех остальных признаках - полные, пригодны для анализа и не требуют дальнейшей предобработки.\n",
    "- целевой признак Exited - категориальный (либо клиент ушел из банка, либо нет), значи перед нами в данном исследовании стоит задача классификации.\n",
    "- в датасете присутствуют три категориальных признака (Surname, Geography и Gender), которые потенциально нужно будет перекодировать, чтобы их можно было использовать для обучения моделей.\n",
    "- поскольку в рамках данного анализа мы будем использовать только модели линейной регрессии, решающего дерева и случайного леса, у нас нет необходимости производить масштабирование (среднее арифметическое = 0, дисперсия = 1), поскольку данные методы машиного обучения не чувствительны к различию в масштабах признаков."
   ]
  },
  {
   "cell_type": "markdown",
   "metadata": {},
   "source": [
    "### Кодирование категориальных признаков"
   ]
  },
  {
   "cell_type": "markdown",
   "metadata": {},
   "source": [
    "Поскольку в датасете содержаться категориальные признаки - нужно перекодировать их таким образом, чтобы все признаки были числовыми. Для этого воспользуемся методом One-Hot-Encoding, т.к. далее буду рассматриваться не только модели на основе решающих деревьев, но и модель логистической регрессии."
   ]
  },
  {
   "cell_type": "markdown",
   "metadata": {},
   "source": [
    "В датасете присутствуют следующие категориальные признаки:\n",
    "* Surname — фамилия\n",
    "* Geography — страна проживания\n",
    "* Gender — пол\n",
    "Поскольку фамилия клиента банка никак не влияет на целевой признак - уйдет ли клиент из банка или нет - для дальнейшего обучения моделей мы сформируем новый датасет, из которого исключим информацию о фамилии. В дальнейшем ее можно будет восстановить из исходного датасета по уникальному коду клиента."
   ]
  },
  {
   "cell_type": "code",
   "execution_count": 8,
   "metadata": {},
   "outputs": [
    {
     "name": "stdout",
     "output_type": "stream",
     "text": [
      "<class 'pandas.core.frame.DataFrame'>\n",
      "RangeIndex: 10000 entries, 0 to 9999\n",
      "Data columns (total 13 columns):\n",
      " #   Column           Non-Null Count  Dtype  \n",
      "---  ------           --------------  -----  \n",
      " 0   RowNumber        10000 non-null  int64  \n",
      " 1   CustomerId       10000 non-null  int64  \n",
      " 2   CreditScore      10000 non-null  int64  \n",
      " 3   Geography        10000 non-null  object \n",
      " 4   Gender           10000 non-null  object \n",
      " 5   Age              10000 non-null  int64  \n",
      " 6   Tenure           10000 non-null  float64\n",
      " 7   Balance          10000 non-null  float64\n",
      " 8   NumOfProducts    10000 non-null  int64  \n",
      " 9   HasCrCard        10000 non-null  int64  \n",
      " 10  IsActiveMember   10000 non-null  int64  \n",
      " 11  EstimatedSalary  10000 non-null  float64\n",
      " 12  Exited           10000 non-null  int64  \n",
      "dtypes: float64(3), int64(8), object(2)\n",
      "memory usage: 1015.8+ KB\n"
     ]
    }
   ],
   "source": [
    "#создадим новый датасет data_clear, включающие все призанки исходного, кроме Surname\n",
    "data_clear = data.drop(['Surname'], axis=1)\n",
    "\n",
    "#проверим получившийся датасет\n",
    "data_clear.info()"
   ]
  },
  {
   "cell_type": "code",
   "execution_count": 9,
   "metadata": {},
   "outputs": [
    {
     "name": "stdout",
     "output_type": "stream",
     "text": [
      "<class 'pandas.core.frame.DataFrame'>\n",
      "RangeIndex: 10000 entries, 0 to 9999\n",
      "Data columns (total 11 columns):\n",
      " #   Column           Non-Null Count  Dtype  \n",
      "---  ------           --------------  -----  \n",
      " 0   CreditScore      10000 non-null  int64  \n",
      " 1   Geography        10000 non-null  object \n",
      " 2   Gender           10000 non-null  object \n",
      " 3   Age              10000 non-null  int64  \n",
      " 4   Tenure           10000 non-null  float64\n",
      " 5   Balance          10000 non-null  float64\n",
      " 6   NumOfProducts    10000 non-null  int64  \n",
      " 7   HasCrCard        10000 non-null  int64  \n",
      " 8   IsActiveMember   10000 non-null  int64  \n",
      " 9   EstimatedSalary  10000 non-null  float64\n",
      " 10  Exited           10000 non-null  int64  \n",
      "dtypes: float64(3), int64(6), object(2)\n",
      "memory usage: 859.5+ KB\n"
     ]
    }
   ],
   "source": [
    "#удалим из нового датасета RowNumber и CustomerId\n",
    "data_clear = data_clear.drop(['RowNumber'], axis=1)\n",
    "data_clear = data_clear.drop(['CustomerId'], axis=1)\n",
    "\n",
    "#проверим получившийся датасет\n",
    "data_clear.info()"
   ]
  },
  {
   "cell_type": "code",
   "execution_count": 10,
   "metadata": {},
   "outputs": [
    {
     "name": "stdout",
     "output_type": "stream",
     "text": [
      "<class 'pandas.core.frame.DataFrame'>\n",
      "RangeIndex: 10000 entries, 0 to 9999\n",
      "Data columns (total 12 columns):\n",
      " #   Column             Non-Null Count  Dtype  \n",
      "---  ------             --------------  -----  \n",
      " 0   CreditScore        10000 non-null  int64  \n",
      " 1   Age                10000 non-null  int64  \n",
      " 2   Tenure             10000 non-null  float64\n",
      " 3   Balance            10000 non-null  float64\n",
      " 4   NumOfProducts      10000 non-null  int64  \n",
      " 5   HasCrCard          10000 non-null  int64  \n",
      " 6   IsActiveMember     10000 non-null  int64  \n",
      " 7   EstimatedSalary    10000 non-null  float64\n",
      " 8   Exited             10000 non-null  int64  \n",
      " 9   Geography_Germany  10000 non-null  uint8  \n",
      " 10  Geography_Spain    10000 non-null  uint8  \n",
      " 11  Gender_Male        10000 non-null  uint8  \n",
      "dtypes: float64(3), int64(6), uint8(3)\n",
      "memory usage: 732.5 KB\n"
     ]
    }
   ],
   "source": [
    "#перекодируем признаки методом ohe, отбросим первый столбец, чтобы избежать дамми-ловушки\n",
    "data_ohe = pd.get_dummies(data_clear, drop_first=True)\n",
    "\n",
    "#проверим получившийся в датасете столбцы с результатами перекодировки признаков\n",
    "data_ohe.info()"
   ]
  },
  {
   "cell_type": "markdown",
   "metadata": {},
   "source": [
    "Выводы по п.1.2:\n",
    "- признак Surname не влияет на целевой признак и его можно отбросить из выборки\n",
    "- два оставшихся категориальных признака перекодированы в числовые\n",
    "- итоговая таблица содержит 14 признаков, подходит для дальнейшего использования данных из нее при обучении моделей"
   ]
  },
  {
   "cell_type": "markdown",
   "metadata": {},
   "source": [
    "<b>Итого по п.1:</b>\n",
    "- данные импортированы успешно, набор признаков в датасете совпадает с документацией.\n",
    "- значения null в признаке Tenure заменили на ноль, в рамках исследования мы будет трактовать клинтов с таким значением признака, как людей, являющихся клиентами банка менее года.\n",
    "- целевой признак Exited - категориальный (либо клиент ушел из банка, либо нет), значи перед нами в данном исследовании стоит задача классификации.\n",
    "- поскольку в рамках данного анализа мы будем использовать только модели линейной регрессии, решающего дерева и случайного леса, у нас нет необходимости производить масштабирование (среднее арифметическое = 0, дисперсия = 1), так как данные методы машиного обучения не чувствительны к различию в масштабах признаков.\n",
    "- категориальный признак Surname не влияет на целевой признак и его можно отбросить из выборки\n",
    "- два оставшихся категориальных признака (Geography и Gender)успешно перекодированы в числовые"
   ]
  },
  {
   "cell_type": "markdown",
   "metadata": {},
   "source": [
    "## Исследование задачи"
   ]
  },
  {
   "cell_type": "markdown",
   "metadata": {},
   "source": [
    "### Исследование баланса классов\n",
    "Для того, чтобы подготовить итоговую модель с наибольшими значением F1-меры, нужно учитывать, насколько сбалансированным является целевой признак в полученной нами выборке. \n",
    "<br>В рамках данного исследования нам нужно предсказать значения целевого признака Exited, чтобы определить, уйдет клиент от банка или нет. Выделим его в отдельный массив и рассмотрим соотношение положительных и отрицательных значений"
   ]
  },
  {
   "cell_type": "code",
   "execution_count": 11,
   "metadata": {},
   "outputs": [
    {
     "name": "stdout",
     "output_type": "stream",
     "text": [
      "<class 'pandas.core.frame.DataFrame'>\n",
      "RangeIndex: 10000 entries, 0 to 9999\n",
      "Data columns (total 11 columns):\n",
      " #   Column             Non-Null Count  Dtype  \n",
      "---  ------             --------------  -----  \n",
      " 0   CreditScore        10000 non-null  int64  \n",
      " 1   Age                10000 non-null  int64  \n",
      " 2   Tenure             10000 non-null  float64\n",
      " 3   Balance            10000 non-null  float64\n",
      " 4   NumOfProducts      10000 non-null  int64  \n",
      " 5   HasCrCard          10000 non-null  int64  \n",
      " 6   IsActiveMember     10000 non-null  int64  \n",
      " 7   EstimatedSalary    10000 non-null  float64\n",
      " 8   Geography_Germany  10000 non-null  uint8  \n",
      " 9   Geography_Spain    10000 non-null  uint8  \n",
      " 10  Gender_Male        10000 non-null  uint8  \n",
      "dtypes: float64(3), int64(5), uint8(3)\n",
      "memory usage: 654.4 KB\n"
     ]
    }
   ],
   "source": [
    "#выделим целевой признак в отдельный массив target, а все остальные признаки - в датасет features\n",
    "features = data_ohe.drop(['Exited'], axis=1)\n",
    "target = data_ohe['Exited']\n",
    "\n",
    "#изучим датасет features, чтобы проверить разделение\n",
    "features.info()"
   ]
  },
  {
   "cell_type": "code",
   "execution_count": 12,
   "metadata": {},
   "outputs": [
    {
     "name": "stdout",
     "output_type": "stream",
     "text": [
      "0    7963\n",
      "1    2037\n",
      "Name: Exited, dtype: int64\n",
      "\n",
      "Отношение 0 к 1 : 3.909\n"
     ]
    }
   ],
   "source": [
    "#изучим количество уникальных значений в массиве target\n",
    "print(target.value_counts())\n",
    "\n",
    "#рассмотрим соотношение положительных и отрицательных ответов\n",
    "print('')\n",
    "print(f'Отношение 0 к 1 : {target[target == 0].count() / target[target == 1].count():.3f}')"
   ]
  },
  {
   "cell_type": "markdown",
   "metadata": {},
   "source": [
    "Выводы по п.2.1.\n",
    "- Отрицательных ответов почти в 4 раза больше, чем положительных - целевой признак нельзя назвать сбалансированным\n",
    "- Потребуется скорректировать дисбаланс классов, чтобы достигнуть наилучшего результата при обучении модели."
   ]
  },
  {
   "cell_type": "markdown",
   "metadata": {},
   "source": [
    "### Изучение модели без учёта дисбаланса классов\n",
    "Перед тем, как выбрать способ компенсации дисбаланса классов - подготовим и изучим модели без учета дисбаланса, чтобы далее можно было использовать полученные результаты как отправную точку для балансировки классов и улучшения моделей."
   ]
  },
  {
   "cell_type": "markdown",
   "metadata": {},
   "source": [
    "Для обучения моделей, подготовим выборки с обучающими, валидационными и тестовыми данными:\n",
    "- _test - тестовые данные для итоговой проверки\n",
    "- _valid - валидационные данные для настройки\n",
    "- _train - обучающие данные дня подготовки модели"
   ]
  },
  {
   "cell_type": "code",
   "execution_count": 13,
   "metadata": {},
   "outputs": [
    {
     "data": {
      "text/plain": [
       "2500.0"
      ]
     },
     "execution_count": 13,
     "metadata": {},
     "output_type": "execute_result"
    }
   ],
   "source": [
    "#рассчитаем какое количество записей составит 1\\4 о всех записей в датасете\n",
    "target.count()/4"
   ]
  },
  {
   "cell_type": "code",
   "execution_count": 15,
   "metadata": {},
   "outputs": [
    {
     "name": "stdout",
     "output_type": "stream",
     "text": [
      "Датасет features_train: 5000\n",
      "Датасет target_train: 5000\n",
      "\n",
      "Датасет features_valid: 2500\n",
      "Датасет target_valid: 2500\n",
      "\n",
      "Датасет features_test: 2500\n",
      "Датасет target_test: 2500\n"
     ]
    }
   ],
   "source": [
    "#выделяем 1/4 (2500 записей) от исходного датасета в пару тестовых датасетов\n",
    "features2, features_test, target2, target_test = train_test_split(features, target, test_size=2500, random_state=12345, stratify=target)\n",
    "\n",
    "#выделяем 1/4 (2500 записей) от исходного датасета в пару датасетов с валидационными данными\n",
    "#остальное - в датасеты с обучающими данными\n",
    "features_train, features_valid, target_train, target_valid = train_test_split(features2, target2, test_size=2500, random_state=12345, stratify=target2)\n",
    "\n",
    "#выведем информацию о количестве записей в получившихся датасетах, чтобы проверить корректность разделения\n",
    "print(f'Датасет features_train: {features_train[\"CreditScore\"].count()}')\n",
    "print(f'Датасет target_train: {target_train.count()}')\n",
    "print()\n",
    "print(f'Датасет features_valid: {features_valid[\"CreditScore\"].count()}')\n",
    "print(f'Датасет target_valid: {target_valid.count()}')\n",
    "print()\n",
    "print(f'Датасет features_test: {features_test[\"CreditScore\"].count()}')\n",
    "print(f'Датасет target_test: {target_test.count()}')"
   ]
  },
  {
   "cell_type": "markdown",
   "metadata": {},
   "source": [
    "Поскольку числовые признаки сейчас в разном масштабе - приведем их к единому для дальшейшего обучения моделей"
   ]
  },
  {
   "cell_type": "code",
   "execution_count": 16,
   "metadata": {},
   "outputs": [],
   "source": [
    "#создадим и обучим инструмент стандартизации\n",
    "scaler = StandardScaler()\n",
    "scaler.fit(features_train) \n",
    "\n",
    "features_train_init = features_train\n",
    "features_valid_init = features_valid\n",
    "features_test_init = features_test"
   ]
  },
  {
   "cell_type": "code",
   "execution_count": 17,
   "metadata": {},
   "outputs": [],
   "source": [
    "#приведем выборки к единому масштабы\n",
    "features_train = scaler.transform(features_train_init)\n",
    "features_valid = scaler.transform(features_valid_init)\n",
    "features_test = scaler.transform(features_test_init) \n",
    "\n",
    "#преобразуем получившиеся numpy.ndarray в структуры pandas.dataframe\n",
    "features_train = pd.DataFrame(data=features_train, columns = features_train_init.columns.values.tolist(), index=features_train_init.index.values.tolist())\n",
    "features_valid = pd.DataFrame(data=features_valid, columns = features_valid_init.columns.values.tolist(), index=features_valid_init.index.values.tolist())\n",
    "features_test = pd.DataFrame(data=features_test, columns = features_test_init.columns.values.tolist(), index=features_test_init.index.values.tolist())\n"
   ]
  },
  {
   "cell_type": "markdown",
   "metadata": {},
   "source": [
    "Для построения наилучшей модели мы исследуем три типа моделей и подберем для каждой свои оптимальные гиперпараметры, ориентируясь на результат f1_score.\n",
    "<br>\n",
    "<br> Рассмотрим следующие модели:\n",
    "- Модель решающего дерева DecisionTreeClassifier, для которой будет оптимизировать максимальную глубину дерева (max_depth)\n",
    "- Модель случайного леса RandomForestClassifier, для которого будем оптимизировать количество деревьев (n_estimators) и максимальную глубину дерева (max_depth)\n",
    "- Модель логистической регрессии LogisticRegression, для которой будем оптимизировать количество итераций (max_iter)"
   ]
  },
  {
   "cell_type": "markdown",
   "metadata": {},
   "source": [
    "#### Модель решающего дерева"
   ]
  },
  {
   "cell_type": "code",
   "execution_count": 32,
   "metadata": {},
   "outputs": [
    {
     "name": "stdout",
     "output_type": "stream",
     "text": [
      "Наилучший результат f1_score 0.539834 показала модель решающего дерева с max_depth = 7\n"
     ]
    },
    {
     "data": {
      "image/png": "[encoded data removed]",
      "text/plain": [
       "<Figure size 1080x432 with 1 Axes>"
      ]
     },
     "metadata": {
      "needs_background": "light"
     },
     "output_type": "display_data"
    }
   ],
   "source": [
    "# подберем наилучшее значение max_depth для модели решающего дерева\n",
    "best_DT_model = None\n",
    "best_DT_result = 0\n",
    "best_depth = 0\n",
    "f1_valid = []\n",
    "f1_train = []\n",
    "\n",
    "for depth in range(1, 30):\n",
    "    model = DecisionTreeClassifier(random_state=12345, max_depth=depth)\n",
    "    model.fit(features_train, target_train)\n",
    "\n",
    "    predictions = model.predict(features_valid)\n",
    "    result = f1_score(predictions, target_valid)\n",
    "    f1_valid.append(result)\n",
    "\n",
    "    predictions_train = model.predict(features_train)\n",
    "    f1_train.append(f1_score(predictions_train, target_train))\n",
    "\n",
    "    if result > best_DT_result:\n",
    "        best_DT_model = model\n",
    "        best_DT_result = result\n",
    "        best_depth = depth\n",
    "\n",
    "print(f'Наилучший результат f1_score {best_DT_result:0.06} показала модель решающего дерева с max_depth = {best_depth}')\n",
    "\n",
    "plt.figure(figsize=(15, 6))\n",
    "plt.plot(f1_valid, label='Валидационные данные');\n",
    "plt.plot(f1_train, label='Обучающие данные');\n",
    "plt.legend()\n",
    "plt.title('Качество предсказаний модели решающего дерева')\n",
    "plt.ylabel('Метрика f1')\n",
    "plt.xlabel('Глубина решающего дерева')\n",
    "plt.show()"
   ]
  },
  {
   "cell_type": "code",
   "execution_count": 33,
   "metadata": {},
   "outputs": [
    {
     "name": "stdout",
     "output_type": "stream",
     "text": [
      "Значение метрики AUC-ROC: 0.825505\n"
     ]
    },
    {
     "data": {
      "image/png": "[encoded data removed]",
      "text/plain": [
       "<Figure size 432x288 with 1 Axes>"
      ]
     },
     "metadata": {
      "needs_background": "light"
     },
     "output_type": "display_data"
    }
   ],
   "source": [
    "#построим ROC-кривую и проверим метрику AUC-ROC для модели\n",
    "\n",
    "probabilities_valid = best_DT_model.predict_proba(features_valid)\n",
    "probabilities_one_valid = probabilities_valid[:, 1]\n",
    "\n",
    "auc_roc = roc_auc_score(target_valid, probabilities_one_valid)\n",
    "print(f'Значение метрики AUC-ROC: {auc_roc:.6f}')\n",
    "\n",
    "fpr, tpr, thresholds = roc_curve(target_valid, probabilities_one_valid)\n",
    "plt.figure()\n",
    "plt.plot(fpr, tpr, linestyle='-')\n",
    "plt.plot([0, 1], [0, 1], linestyle='--')\n",
    "plt.xlim(0, 1)\n",
    "plt.ylim(0, 1)\n",
    "plt.xlabel('False Positive Rate')\n",
    "plt.ylabel('True Positive Rate')\n",
    "plt.title('ROC-кривая')\n",
    "plt.show()"
   ]
  },
  {
   "cell_type": "markdown",
   "metadata": {},
   "source": [
    "#### Модель случайного леса"
   ]
  },
  {
   "cell_type": "code",
   "execution_count": 34,
   "metadata": {},
   "outputs": [
    {
     "name": "stderr",
     "output_type": "stream",
     "text": [
      "100%|██████████| 29/29 [00:42<00:00,  1.45s/it]"
     ]
    },
    {
     "name": "stdout",
     "output_type": "stream",
     "text": [
      "Наилучший результат f1_score 0.560197 показала модель случайного леса с n_estimators = 29 и max_depth = 16\n"
     ]
    },
    {
     "name": "stderr",
     "output_type": "stream",
     "text": [
      "\n"
     ]
    }
   ],
   "source": [
    "#подберем наилучшее значение n_estimators и max_depth для модели случайного леса\n",
    "best_RF_model = None\n",
    "best_RF_result = 0\n",
    "best_est = 0\n",
    "best_depth = 0\n",
    "\n",
    "for est in tqdm(range(1, 30)):\n",
    "    for depth in range(2, 20):\n",
    "        model = RandomForestClassifier(random_state=12345, n_estimators=est, max_depth=depth)\n",
    "        model.fit(features_train, target_train)\n",
    "    \n",
    "        predictions = model.predict(features_valid)\n",
    "        result = f1_score(predictions, target_valid)\n",
    "    \n",
    "        if result > best_RF_result:\n",
    "            best_RF_model = model\n",
    "            best_RF_result = result\n",
    "            best_est = est\n",
    "            best_depth = depth\n",
    "    \n",
    "print(f'Наилучший результат f1_score {best_RF_result:0.06} показала модель случайного леса с n_estimators = {best_est} и max_depth = {best_depth}')"
   ]
  },
  {
   "cell_type": "code",
   "execution_count": 35,
   "metadata": {},
   "outputs": [
    {
     "name": "stdout",
     "output_type": "stream",
     "text": [
      "Значение метрики AUC-ROC: 0.831938\n"
     ]
    },
    {
     "data": {
      "image/png": "[encoded data removed]",
      "text/plain": [
       "<Figure size 432x288 with 1 Axes>"
      ]
     },
     "metadata": {
      "needs_background": "light"
     },
     "output_type": "display_data"
    }
   ],
   "source": [
    "#построим ROC-кривую и проверим метрику AUC-ROC для модели\n",
    "\n",
    "probabilities_valid = best_RF_model.predict_proba(features_valid)\n",
    "probabilities_one_valid = probabilities_valid[:, 1]\n",
    "\n",
    "auc_roc = roc_auc_score(target_valid, probabilities_one_valid)\n",
    "print(f'Значение метрики AUC-ROC: {auc_roc:.6f}')\n",
    "\n",
    "fpr, tpr, thresholds = roc_curve(target_valid, probabilities_one_valid)\n",
    "plt.figure()\n",
    "plt.plot(fpr, tpr, linestyle='-')\n",
    "plt.plot([0, 1], [0, 1], linestyle='--')\n",
    "plt.xlim(0, 1)\n",
    "plt.ylim(0, 1)\n",
    "plt.xlabel('False Positive Rate')\n",
    "plt.ylabel('True Positive Rate')\n",
    "plt.title('ROC-кривая')\n",
    "plt.show()"
   ]
  },
  {
   "cell_type": "markdown",
   "metadata": {},
   "source": [
    "#### Модель логистической регрессии"
   ]
  },
  {
   "cell_type": "code",
   "execution_count": 36,
   "metadata": {
    "scrolled": true
   },
   "outputs": [
    {
     "name": "stderr",
     "output_type": "stream",
     "text": [
      "100%|██████████| 40/40 [00:03<00:00, 12.58it/s]"
     ]
    },
    {
     "name": "stdout",
     "output_type": "stream",
     "text": [
      "Наилучший результат f1_score 0.33 показала модель логистической регрессии с max_iter = 100\n"
     ]
    },
    {
     "name": "stderr",
     "output_type": "stream",
     "text": [
      "\n"
     ]
    }
   ],
   "source": [
    "# подберем наилучшее значение max_iter для модели логистической регрессии\n",
    "best_LR_model = None\n",
    "best_LR_result = 0\n",
    "best_max_iter = 0\n",
    "\n",
    "for iter_num in tqdm(range(100, 500, 10)):\n",
    "    model = LogisticRegression(random_state=12345, solver='liblinear', max_iter=iter_num)\n",
    "    model.fit(features_train, target_train)\n",
    "\n",
    "    predictions = model.predict(features_valid)\n",
    "    result = f1_score(predictions, target_valid)\n",
    "\n",
    "    if result > best_LR_result:\n",
    "        best_LR_model = model\n",
    "        best_LR_result = result\n",
    "        best_max_iter = iter_num\n",
    "\n",
    "print(f'Наилучший результат f1_score {best_LR_result:.2f} показала модель логистической регрессии с max_iter = {best_max_iter}')"
   ]
  },
  {
   "cell_type": "code",
   "execution_count": 37,
   "metadata": {},
   "outputs": [
    {
     "name": "stdout",
     "output_type": "stream",
     "text": [
      "Значение метрики AUC-ROC: 0.756100\n"
     ]
    },
    {
     "data": {
      "image/png": "[encoded data removed]",
      "text/plain": [
       "<Figure size 432x288 with 1 Axes>"
      ]
     },
     "metadata": {
      "needs_background": "light"
     },
     "output_type": "display_data"
    }
   ],
   "source": [
    "#построим ROC-кривую и проверим метрику AUC-ROC для модели\n",
    "\n",
    "probabilities_valid = best_LR_model.predict_proba(features_valid)\n",
    "probabilities_one_valid = probabilities_valid[:, 1]\n",
    "\n",
    "auc_roc = roc_auc_score(target_valid, probabilities_one_valid)\n",
    "print(f'Значение метрики AUC-ROC: {auc_roc:.6f}')\n",
    "\n",
    "fpr, tpr, thresholds = roc_curve(target_valid, probabilities_one_valid)\n",
    "plt.figure()\n",
    "plt.plot(fpr, tpr, linestyle='-')\n",
    "plt.plot([0, 1], [0, 1], linestyle='--')\n",
    "plt.xlim(0, 1)\n",
    "plt.ylim(0, 1)\n",
    "plt.xlabel('False Positive Rate')\n",
    "plt.ylabel('True Positive Rate')\n",
    "plt.title('ROC-кривая')\n",
    "plt.show()"
   ]
  },
  {
   "cell_type": "markdown",
   "metadata": {},
   "source": [
    "Выводы по п.2.2\n",
    "- Исследованы и протестированы 3 модели для задачи классификации:\n",
    "    - Модель решающего дерева\n",
    "    - Модель случайного леса\n",
    "    - Модель логистической регрессии\n",
    "- Наилучший результат f1_score 0.539834 показала модель решающего дерева с max_depth = 7, AUC-ROC:0.825505\n",
    "- Наилучший результат f1_score 0.560197 показала модель случайного леса с n_estimators = 29 и max_depth = 16, AUC-ROC:0.831938\n",
    "- Наилучший результат f1_score 0.33 показала модель логистической регрессии с max_iter = 100, AUC-ROC: 0.756100"
   ]
  },
  {
   "cell_type": "markdown",
   "metadata": {},
   "source": [
    "<b>Итого по п.2:</b>\n",
    "- Отрицательных ответов почти в 4 раза больше, чем положительных - целевой признак нельзя назвать сбалансированным\n",
    "- Без учета дисбаланса классов, исследованы и протестированы 3 модели для задачи классификации:\n",
    "    - Модель решающего дерева\n",
    "    - Модель случайного леса\n",
    "    - Модель логистической регрессии\n",
    "- Наилучший результат f1_score 0.539834 показала модель решающего дерева с max_depth = 7, AUC-ROC:0.825505\n",
    "- Наилучший результат f1_score 0.560197 показала модель случайного леса с n_estimators = 29 и max_depth = 16, AUC-ROC:0.831938\n",
    "- Наилучший результат f1_score 0.33 показала модель логистической регрессии с max_iter = 100, AUC-ROC: 0.756100\n",
    "- Таким образом для данных с несбалансированными классами наиболее точной оказалась модель случайного леса, показавшая результат f1_score 0.560197 с количеством деревьев равным 29 и максимальной глубиной в 16, AUC-ROC:0.831938"
   ]
  },
  {
   "cell_type": "markdown",
   "metadata": {},
   "source": [
    "## Борьба с дисбалансом\n",
    "Для того, чтобы исправить ситуацию с дисбалансом классов, опробуем три различных подхода к решению этой проблемы:\n",
    "- Взвешивание классов\n",
    "- Увеличение выборки\n",
    "- Уменьшение выборки"
   ]
  },
  {
   "cell_type": "markdown",
   "metadata": {},
   "source": [
    "### Взвешивание классов\n",
    "Используем гиперпараметр class_weight='balanced', чтобы сбалансировать количество положительных и отрицательных исходов, при обучении модели"
   ]
  },
  {
   "cell_type": "code",
   "execution_count": 38,
   "metadata": {},
   "outputs": [
    {
     "name": "stdout",
     "output_type": "stream",
     "text": [
      "Наилучший результат f1_score 0.576547 показала модель решающего дерева с max_depth = 7, AUC-ROC:0.8186\n"
     ]
    },
    {
     "data": {
      "image/png": "[encoded data removed]",
      "text/plain": [
       "<Figure size 1080x432 with 1 Axes>"
      ]
     },
     "metadata": {
      "needs_background": "light"
     },
     "output_type": "display_data"
    }
   ],
   "source": [
    "# подберем наилучшее значение max_depth для модели решающего дерева c взвешенными классами\n",
    "best_DT_model = None\n",
    "best_DT_result = 0\n",
    "best_depth = 0\n",
    "f1_valid = []\n",
    "f1_train = []\n",
    "\n",
    "for depth in range(1, 30):\n",
    "    model = DecisionTreeClassifier(random_state=12345, max_depth=depth, class_weight='balanced')\n",
    "    model.fit(features_train, target_train)\n",
    "\n",
    "    predictions = model.predict(features_valid)\n",
    "    result = f1_score(predictions, target_valid)\n",
    "    f1_valid.append(result)\n",
    "\n",
    "    predictions_train = model.predict(features_train)\n",
    "    f1_train.append(f1_score(predictions_train, target_train))\n",
    "\n",
    "    if result > best_DT_result:\n",
    "        best_DT_model = model\n",
    "        best_DT_result = result\n",
    "        best_depth = depth\n",
    "\n",
    "\n",
    "#рассчитаем метрику AUC-ROC для модели\n",
    "probabilities_valid = best_DT_model.predict_proba(features_valid)\n",
    "probabilities_one_valid = probabilities_valid[:, 1]\n",
    "auc_roc = roc_auc_score(target_valid, probabilities_one_valid)\n",
    "        \n",
    "print(f'Наилучший результат f1_score {best_DT_result:0.06} показала модель решающего дерева с max_depth = {best_depth}, AUC-ROC:{auc_roc:.4f}')\n",
    "\n",
    "plt.figure(figsize=(15, 6))\n",
    "plt.plot(f1_valid, label='Валидационные данные');\n",
    "plt.plot(f1_train, label='Обучающие данные');\n",
    "plt.legend()\n",
    "plt.title('Качество предсказаний модели решающего дерева')\n",
    "plt.ylabel('Метрика f1')\n",
    "plt.xlabel('Глубина решающего дерева')\n",
    "plt.show()\n"
   ]
  },
  {
   "cell_type": "code",
   "execution_count": 39,
   "metadata": {},
   "outputs": [
    {
     "name": "stderr",
     "output_type": "stream",
     "text": [
      "100%|██████████| 29/29 [00:42<00:00,  1.47s/it]"
     ]
    },
    {
     "name": "stdout",
     "output_type": "stream",
     "text": [
      "Наилучший результат f1_score 0.61301 показала модель случайного леса с n_estimators = 29 и max_depth = 12, AUC-ROC:0.8445\n"
     ]
    },
    {
     "name": "stderr",
     "output_type": "stream",
     "text": [
      "\n"
     ]
    }
   ],
   "source": [
    "#подберем наилучшее значение n_estimators и max_depth для модели случайного леса c взвешенными классами\n",
    "best_RF_model = None\n",
    "best_RF_result = 0\n",
    "best_est = 0\n",
    "best_depth = 0\n",
    "\n",
    "for est in tqdm(range(1, 30)):\n",
    "    for depth in range(2, 20):\n",
    "        model = RandomForestClassifier(random_state=12345, n_estimators=est, max_depth=depth, class_weight='balanced')\n",
    "        model.fit(features_train, target_train)\n",
    "    \n",
    "        predictions = model.predict(features_valid)\n",
    "        result = f1_score(predictions, target_valid)\n",
    "    \n",
    "        if result > best_RF_result:\n",
    "            best_RF_model = model\n",
    "            best_RF_result = result\n",
    "            best_est = est\n",
    "            best_depth = depth\n",
    "\n",
    "#рассчитаем метрику AUC-ROC для модели\n",
    "probabilities_valid = best_RF_model.predict_proba(features_valid)\n",
    "probabilities_one_valid = probabilities_valid[:, 1]\n",
    "auc_roc = roc_auc_score(target_valid, probabilities_one_valid)           \n",
    "\n",
    "print(f'Наилучший результат f1_score {best_RF_result:0.06} показала модель случайного леса с n_estimators = {best_est} и max_depth = {best_depth}, AUC-ROC:{auc_roc:.4f}')"
   ]
  },
  {
   "cell_type": "code",
   "execution_count": 44,
   "metadata": {
    "scrolled": true
   },
   "outputs": [
    {
     "name": "stderr",
     "output_type": "stream",
     "text": [
      "100%|██████████| 40/40 [00:03<00:00, 11.61it/s]"
     ]
    },
    {
     "name": "stdout",
     "output_type": "stream",
     "text": [
      "Наилучший результат f1_score 0.48 показала модель логистической регрессии с max_iter = 100, AUC-ROC:0.7598\n"
     ]
    },
    {
     "name": "stderr",
     "output_type": "stream",
     "text": [
      "\n"
     ]
    }
   ],
   "source": [
    "# подберем наилучшее значение max_iter для модели логистической регрессии c взвешенными классами\n",
    "best_LR_model = None\n",
    "best_LR_result = 0\n",
    "best_max_iter = 0\n",
    "\n",
    "for iter_num in tqdm(range(100, 500, 10)):\n",
    "    model = LogisticRegression(random_state=12345, solver='liblinear', max_iter=iter_num, class_weight='balanced')\n",
    "    model.fit(features_train, target_train)\n",
    "\n",
    "    predictions = model.predict(features_valid)\n",
    "    result = f1_score(predictions, target_valid)\n",
    "\n",
    "    if result > best_LR_result:\n",
    "        best_LR_model = model\n",
    "        best_LR_result = result\n",
    "        best_max_iter = iter_num\n",
    "\n",
    "#рассчитаем метрику AUC-ROC для модели\n",
    "probabilities_valid = best_LR_model.predict_proba(features_valid)\n",
    "probabilities_one_valid = probabilities_valid[:, 1]\n",
    "auc_roc = roc_auc_score(target_valid, probabilities_one_valid)       \n",
    "\n",
    "print(f'Наилучший результат f1_score {best_LR_result:.2f} показала модель логистической регрессии с max_iter = {best_max_iter}, AUC-ROC:{auc_roc:.4f}')"
   ]
  },
  {
   "cell_type": "markdown",
   "metadata": {},
   "source": [
    "Выводы по п.3.1:\n",
    "- Наилучший результат f1_score 0.576547 показала модель решающего дерева с max_depth = 7, AUC-ROC:0.8186\n",
    "- Наилучший результат f1_score 0.61301 показала модель случайного леса с n_estimators = 29 и max_depth = 12, AUC-ROC:0.8445\n",
    "- Наилучший результат f1_score 0.48 показала модель логистической регрессии с max_iter = 100, AUC-ROC:0.7598"
   ]
  },
  {
   "cell_type": "markdown",
   "metadata": {},
   "source": [
    "### Увеличение выборки\n",
    "С помощью повторения положительных ответов, увеличим их количество таким образом, чтобы количество положительных и отрицательных ответов примерно сравнялось"
   ]
  },
  {
   "cell_type": "code",
   "execution_count": 45,
   "metadata": {},
   "outputs": [
    {
     "name": "stdout",
     "output_type": "stream",
     "text": [
      "<class 'pandas.core.frame.DataFrame'>\n",
      "Int64Index: 8057 entries, 1569 to 7894\n",
      "Data columns (total 11 columns):\n",
      " #   Column             Non-Null Count  Dtype  \n",
      "---  ------             --------------  -----  \n",
      " 0   CreditScore        8057 non-null   float64\n",
      " 1   Age                8057 non-null   float64\n",
      " 2   Tenure             8057 non-null   float64\n",
      " 3   Balance            8057 non-null   float64\n",
      " 4   NumOfProducts      8057 non-null   float64\n",
      " 5   HasCrCard          8057 non-null   float64\n",
      " 6   IsActiveMember     8057 non-null   float64\n",
      " 7   EstimatedSalary    8057 non-null   float64\n",
      " 8   Geography_Germany  8057 non-null   float64\n",
      " 9   Geography_Spain    8057 non-null   float64\n",
      " 10  Gender_Male        8057 non-null   float64\n",
      "dtypes: float64(11)\n",
      "memory usage: 755.3 KB\n"
     ]
    }
   ],
   "source": [
    "#подготовим обучающие выборки для моделей с использованием метода увеличение количества положительных ответов\n",
    "#features_upsampled, target_upsampled = upsample(features_train, target_train, 4)\n",
    "features_upsampled, target_upsampled = upsample(features_train, target_train, 4)\n",
    "\n",
    "#посмотрим на получившийся датасет\n",
    "features_upsampled.info()"
   ]
  },
  {
   "cell_type": "code",
   "execution_count": 46,
   "metadata": {},
   "outputs": [
    {
     "name": "stdout",
     "output_type": "stream",
     "text": [
      "Наилучший результат f1_score 0.572741 показала модель решающего дерева с max_depth = 7, AUC-ROC:0.8487\n"
     ]
    },
    {
     "data": {
      "image/png": "[encoded data removed]",
      "text/plain": [
       "<Figure size 1080x432 with 1 Axes>"
      ]
     },
     "metadata": {
      "needs_background": "light"
     },
     "output_type": "display_data"
    }
   ],
   "source": [
    "# подберем наилучшее значение max_depth для модели решающего дерева на увеличенных данных\n",
    "best_DT_model = None\n",
    "best_DT_result = 0\n",
    "best_depth = 0\n",
    "f1_valid = []\n",
    "f1_train = []\n",
    "\n",
    "for depth in range(1, 30):\n",
    "    model = DecisionTreeClassifier(random_state=12345, max_depth=depth)\n",
    "    model.fit(features_upsampled, target_upsampled)\n",
    "\n",
    "    predictions = model.predict(features_valid)\n",
    "    result = f1_score(predictions, target_valid)\n",
    "    f1_valid.append(result)\n",
    "\n",
    "    predictions_train = model.predict(features_upsampled)\n",
    "    f1_train.append(f1_score(predictions_train, target_upsampled))\n",
    "\n",
    "    if result > best_DT_result:\n",
    "        best_DT_model = model\n",
    "        best_DT_result = result\n",
    "        best_depth = depth\n",
    "\n",
    "#рассчитаем метрику AUC-ROC для модели\n",
    "probabilities_valid = best_RF_model.predict_proba(features_valid)\n",
    "probabilities_one_valid = probabilities_valid[:, 1]\n",
    "auc_roc = roc_auc_score(target_valid, probabilities_one_valid)\n",
    "        \n",
    "print(f'Наилучший результат f1_score {best_DT_result:0.06} показала модель решающего дерева с max_depth = {best_depth}, AUC-ROC:{auc_roc:.4f}')\n",
    "\n",
    "\n",
    "plt.figure(figsize=(15, 6))\n",
    "plt.plot(f1_valid, label='Валидационные данные');\n",
    "plt.plot(f1_train, label='Обучающие данные');\n",
    "plt.legend()\n",
    "plt.title('Качество предсказаний модели решающего дерева')\n",
    "plt.ylabel('Метрика f1')\n",
    "plt.xlabel('Глубина решающего дерева')\n",
    "plt.show()"
   ]
  },
  {
   "cell_type": "code",
   "execution_count": 47,
   "metadata": {},
   "outputs": [
    {
     "name": "stderr",
     "output_type": "stream",
     "text": [
      "100%|██████████| 29/29 [00:54<00:00,  1.86s/it]"
     ]
    },
    {
     "name": "stdout",
     "output_type": "stream",
     "text": [
      "Наилучший результат f1_score 0.614925 показала модель случайного леса с n_estimators = 29 и max_depth = 12, AUC-ROC:0.8523\n"
     ]
    },
    {
     "name": "stderr",
     "output_type": "stream",
     "text": [
      "\n"
     ]
    }
   ],
   "source": [
    "#подберем наилучшее значение n_estimators и max_depth для модели случайного леса на увеличенных данных\n",
    "best_RF_model = None\n",
    "best_RF_result = 0\n",
    "best_est = 0\n",
    "best_depth = 0\n",
    "\n",
    "for est in tqdm(range(1, 30)):\n",
    "    for depth in range(2, 20):\n",
    "        model = RandomForestClassifier(random_state=12345, n_estimators=est, max_depth=depth)\n",
    "        model.fit(features_upsampled, target_upsampled)\n",
    "    \n",
    "        predictions = model.predict(features_valid)\n",
    "        result = f1_score(predictions, target_valid)\n",
    "    \n",
    "        if result > best_RF_result:\n",
    "            best_RF_model = model\n",
    "            best_RF_result = result\n",
    "            best_est = est\n",
    "            best_depth = depth\n",
    "    \n",
    "#рассчитаем метрику AUC-ROC для модели\n",
    "probabilities_test = best_RF_model.predict_proba(features_test)\n",
    "probabilities_one_test = probabilities_test[:, 1]\n",
    "auc_roc = roc_auc_score(target_test, probabilities_one_test)            \n",
    "\n",
    "print(f'Наилучший результат f1_score {best_RF_result:0.06} показала модель случайного леса с n_estimators = {best_est} и max_depth = {best_depth}, AUC-ROC:{auc_roc:.4f}')"
   ]
  },
  {
   "cell_type": "code",
   "execution_count": 48,
   "metadata": {},
   "outputs": [
    {
     "name": "stderr",
     "output_type": "stream",
     "text": [
      "100%|██████████| 40/40 [00:04<00:00,  9.26it/s]"
     ]
    },
    {
     "name": "stdout",
     "output_type": "stream",
     "text": [
      "Наилучший результат f1_score 0.48 показала модель логистической регрессии с max_iter = 100, AUC-ROC:0.7599\n"
     ]
    },
    {
     "name": "stderr",
     "output_type": "stream",
     "text": [
      "\n"
     ]
    }
   ],
   "source": [
    "# подберем наилучшее значение max_iter для модели логистической регрессии на увеличенных данных\n",
    "best_LR_model = None\n",
    "best_LR_result = 0\n",
    "best_max_iter = 0\n",
    "\n",
    "for iter_num in tqdm(range(100, 500, 10)):\n",
    "    model = LogisticRegression(random_state=12345, solver='liblinear', max_iter=iter_num)\n",
    "    model.fit(features_upsampled, target_upsampled)\n",
    "\n",
    "    predictions = model.predict(features_valid)\n",
    "    result = f1_score(predictions, target_valid)\n",
    "\n",
    "    if result > best_LR_result:\n",
    "        best_LR_model = model\n",
    "        best_LR_result = result\n",
    "        best_max_iter = iter_num\n",
    "\n",
    "#рассчитаем метрику AUC-ROC для модели\n",
    "probabilities_valid = best_LR_model.predict_proba(features_valid)\n",
    "probabilities_one_valid = probabilities_valid[:, 1]\n",
    "auc_roc = roc_auc_score(target_valid, probabilities_one_valid)      \n",
    "\n",
    "print(f'Наилучший результат f1_score {best_LR_result:.2f} показала модель логистической регрессии с max_iter = {best_max_iter}, AUC-ROC:{auc_roc:.4f}')"
   ]
  },
  {
   "cell_type": "markdown",
   "metadata": {},
   "source": [
    "Выводы по п.3.2:\n",
    "- Наилучший результат f1_score 0.572741 показала модель решающего дерева с max_depth = 7, AUC-ROC:0.8487\n",
    "- Наилучший результат f1_score 0.614925 показала модель случайного леса с n_estimators = 29 и max_depth = 12, AUC-ROC:0.8523\n",
    "- Наилучший результат f1_score 0.48 показала модель логистической регрессии с max_iter = 100, AUC-ROC:0.7599"
   ]
  },
  {
   "cell_type": "markdown",
   "metadata": {},
   "source": [
    "### Уменьшение выборки\n",
    "Уравняем количество положительных и отрицательных ответов с помощью выборочного случайного удаление отрицательных ответов. "
   ]
  },
  {
   "cell_type": "code",
   "execution_count": 49,
   "metadata": {},
   "outputs": [
    {
     "name": "stdout",
     "output_type": "stream",
     "text": [
      "<class 'pandas.core.frame.DataFrame'>\n",
      "Int64Index: 2014 entries, 4520 to 2986\n",
      "Data columns (total 11 columns):\n",
      " #   Column             Non-Null Count  Dtype  \n",
      "---  ------             --------------  -----  \n",
      " 0   CreditScore        2014 non-null   float64\n",
      " 1   Age                2014 non-null   float64\n",
      " 2   Tenure             2014 non-null   float64\n",
      " 3   Balance            2014 non-null   float64\n",
      " 4   NumOfProducts      2014 non-null   float64\n",
      " 5   HasCrCard          2014 non-null   float64\n",
      " 6   IsActiveMember     2014 non-null   float64\n",
      " 7   EstimatedSalary    2014 non-null   float64\n",
      " 8   Geography_Germany  2014 non-null   float64\n",
      " 9   Geography_Spain    2014 non-null   float64\n",
      " 10  Gender_Male        2014 non-null   float64\n",
      "dtypes: float64(11)\n",
      "memory usage: 188.8 KB\n"
     ]
    }
   ],
   "source": [
    "#подготовим обучающие выборки для моделей с использованием метода уменьшения количества отрицательных ответов\n",
    "features_downsampled, target_downsampled = downsample(features_train, target_train, 0.25)\n",
    "\n",
    "#посмотрим на получившийся датасет\n",
    "features_downsampled.info()"
   ]
  },
  {
   "cell_type": "code",
   "execution_count": 50,
   "metadata": {},
   "outputs": [
    {
     "name": "stdout",
     "output_type": "stream",
     "text": [
      "Наилучший результат f1_score 0.56294 показала модель решающего дерева с max_depth = 7, AUC-ROC:0.8100\n"
     ]
    },
    {
     "data": {
      "image/png": "[encoded data removed]",
      "text/plain": [
       "<Figure size 1080x432 with 1 Axes>"
      ]
     },
     "metadata": {
      "needs_background": "light"
     },
     "output_type": "display_data"
    }
   ],
   "source": [
    "# подберем наилучшее значение max_depth для модели решающего дерева на уменьшеных данных\n",
    "best_DT_model = None\n",
    "best_DT_result = 0\n",
    "best_depth = 0\n",
    "f1_valid = []\n",
    "f1_train = []\n",
    "\n",
    "for depth in range(1, 30):\n",
    "    model = DecisionTreeClassifier(random_state=12345, max_depth=depth)\n",
    "    model.fit(features_downsampled, target_downsampled)\n",
    "\n",
    "    predictions = model.predict(features_valid)\n",
    "    result = f1_score(predictions, target_valid)\n",
    "    f1_valid.append(result)\n",
    "\n",
    "    predictions_train = model.predict(features_downsampled)\n",
    "    f1_train.append(f1_score(predictions_train, target_downsampled))\n",
    "\n",
    "    if result > best_DT_result:\n",
    "        best_DT_model = model\n",
    "        best_DT_result = result\n",
    "        best_depth = depth\n",
    "\n",
    "#рассчитаем метрику AUC-ROC для модели\n",
    "probabilities_valid = best_DT_model.predict_proba(features_valid)\n",
    "probabilities_one_valid = probabilities_valid[:, 1]\n",
    "auc_roc = roc_auc_score(target_valid, probabilities_one_valid)\n",
    "        \n",
    "print(f'Наилучший результат f1_score {best_DT_result:0.06} показала модель решающего дерева с max_depth = {best_depth}, AUC-ROC:{auc_roc:.4f}')\n",
    "\n",
    "plt.figure(figsize=(15, 6))\n",
    "plt.plot(f1_valid, label='Валидационные данные');\n",
    "plt.plot(f1_train, label='Обучающие данные');\n",
    "plt.legend()\n",
    "plt.title('Качество предсказаний модели решающего дерева')\n",
    "plt.ylabel('Метрика f1')\n",
    "plt.xlabel('Глубина решающего дерева')\n",
    "plt.show()"
   ]
  },
  {
   "cell_type": "code",
   "execution_count": 51,
   "metadata": {},
   "outputs": [
    {
     "name": "stderr",
     "output_type": "stream",
     "text": [
      "100%|██████████| 29/29 [00:26<00:00,  1.10it/s]"
     ]
    },
    {
     "name": "stdout",
     "output_type": "stream",
     "text": [
      "Наилучший результат f1_score 0.604167 показала модель случайного леса с n_estimators = 20 и max_depth = 17, AUC-ROC:0.8398\n"
     ]
    },
    {
     "name": "stderr",
     "output_type": "stream",
     "text": [
      "\n"
     ]
    }
   ],
   "source": [
    "#подберем наилучшее значение n_estimators и max_depth для модели случайного леса на уменьшеных данных\n",
    "best_RF_model = None\n",
    "best_RF_result = 0\n",
    "best_est = 0\n",
    "best_depth = 0\n",
    "\n",
    "for est in tqdm(range(1, 30)):\n",
    "    for depth in range(2, 20):\n",
    "        model = RandomForestClassifier(random_state=12345, n_estimators=est, max_depth=depth)\n",
    "        model.fit(features_downsampled, target_downsampled)\n",
    "    \n",
    "        predictions = model.predict(features_valid)\n",
    "        result = f1_score(predictions, target_valid)\n",
    "    \n",
    "        if result > best_RF_result:\n",
    "            best_RF_model = model\n",
    "            best_RF_result = result\n",
    "            best_est = est\n",
    "            best_depth = depth\n",
    "    \n",
    "#рассчитаем метрику AUC-ROC для модели\n",
    "probabilities_valid = best_RF_model.predict_proba(features_valid)\n",
    "probabilities_one_valid = probabilities_valid[:, 1]\n",
    "auc_roc = roc_auc_score(target_valid, probabilities_one_valid)         \n",
    "\n",
    "print(f'Наилучший результат f1_score {best_RF_result:0.06} показала модель случайного леса с n_estimators = {best_est} и max_depth = {best_depth}, AUC-ROC:{auc_roc:.4f}')"
   ]
  },
  {
   "cell_type": "code",
   "execution_count": 52,
   "metadata": {},
   "outputs": [
    {
     "name": "stderr",
     "output_type": "stream",
     "text": [
      "100%|██████████| 40/40 [00:02<00:00, 14.21it/s]"
     ]
    },
    {
     "name": "stdout",
     "output_type": "stream",
     "text": [
      "Наилучший результат f1_score 0.48 показала модель логистической регрессии с max_iter = 100, AUC-ROC:0.7609\n"
     ]
    },
    {
     "name": "stderr",
     "output_type": "stream",
     "text": [
      "\n"
     ]
    }
   ],
   "source": [
    "# подберем наилучшее значение max_iter для модели логистической регрессии на уменьшеных данных\n",
    "best_LR_model = None\n",
    "best_LR_result = 0\n",
    "best_max_iter = 0\n",
    "\n",
    "for iter_num in tqdm(range(100, 500, 10)):\n",
    "    model = LogisticRegression(random_state=12345, solver='liblinear', max_iter=iter_num)\n",
    "    model.fit(features_downsampled, target_downsampled)\n",
    "\n",
    "    predictions = model.predict(features_valid)\n",
    "    result = f1_score(predictions, target_valid)\n",
    "\n",
    "    if result > best_LR_result:\n",
    "        best_LR_model = model\n",
    "        best_LR_result = result\n",
    "        best_max_iter = iter_num\n",
    "\n",
    "#рассчитаем метрику AUC-ROC для модели\n",
    "probabilities_valid = best_LR_model.predict_proba(features_valid)\n",
    "probabilities_one_valid = probabilities_valid[:, 1]\n",
    "auc_roc = roc_auc_score(target_valid, probabilities_one_valid)     \n",
    "\n",
    "print(f'Наилучший результат f1_score {best_LR_result:.2f} показала модель логистической регрессии с max_iter = {best_max_iter}, AUC-ROC:{auc_roc:.4f}')"
   ]
  },
  {
   "cell_type": "markdown",
   "metadata": {},
   "source": [
    "Выводы по п.3.3:\n",
    "- Наилучший результат f1_score 0.56294 показала модель решающего дерева с max_depth = 7, AUC-ROC:0.8100\n",
    "- Наилучший результат f1_score 0.604167 показала модель случайного леса с n_estimators = 20 и max_depth = 17, AUC-ROC:0.8398\n",
    "- Наилучший результат f1_score 0.48 показала модель логистической регрессии с max_iter = 100, AUC-ROC:0.7609"
   ]
  },
  {
   "cell_type": "markdown",
   "metadata": {},
   "source": [
    "<b>Итого по п.3</b>\n",
    "- При устранении дисбаланса методом взвешивания классов, получили следующие результаты:\n",
    "    - Наилучший результат f1_score 0.576547 показала модель решающего дерева с max_depth = 7, AUC-ROC:0.8186\n",
    "    - Наилучший результат f1_score 0.61301 показала модель случайного леса с n_estimators = 29 и max_depth = 12, AUC-ROC:0.8445\n",
    "    - Наилучший результат f1_score 0.48 показала модель логистической регрессии с max_iter = 100, AUC-ROC:0.7598\n",
    "    - Наилучшей моделью, при устранении дисбаланса методом взвешивания классов, оказалась модель случайного леса с n_estimators = 29 и max_depth = 12, AUC-ROC:0.8445, с результатом f1_score 0.61301\n",
    "- При устранении дисбаланса методом увеличения выборки, получили следующие результаты:\n",
    "    - Наилучший результат f1_score 0.572741 показала модель решающего дерева с max_depth = 7, AUC-ROC:0.8487\n",
    "    - Наилучший результат f1_score 0.614925 показала модель случайного леса с n_estimators = 29 и max_depth = 12, AUC-ROC:0.8523\n",
    "    - Наилучший результат f1_score 0.48 показала модель логистической регрессии с max_iter = 100, AUC-ROC:0.7599\n",
    "    - Наилучшей моделью, при устранении дисбаланса методом увеличения выборки, оказалась модель случайного леса n_estimators = 29 и max_depth = 12, AUC-ROC:0.8523, с результатом f1_score 0.614925\n",
    "- При устранении дисбаланса методом уменьшения выборки, получили следующие результаты:\n",
    "    - Наилучший результат f1_score 0.56294 показала модель решающего дерева с max_depth = 7, AUC-ROC:0.8100\n",
    "    - Наилучший результат f1_score 0.604167 показала модель случайного леса с n_estimators = 20 и max_depth = 17, AUC-ROC:0.8398\n",
    "    - Наилучший результат f1_score 0.48 показала модель логистической регрессии с max_iter = 100, AUC-ROC:0.7609\n",
    "    - Наилучшей моделью, при устранении дисбаланса методом уменьшения выборки, оказалась модель случайного леса с n_estimators = 20 и max_depth = 17, AUC-ROC:0.8398, с результатом f1_score 0.604167\n",
    "- В рамках исследования лучше всего показали себя модели, обученные на данных, сбалансированных путем взвешивания классов и увеличения выборки, метод уменьшения выборки показал более низкие результаты, в финальном тестировании его нет смысла использовать\n",
    "- Порог валидности моделей для данной задачи составляет f1_score > 0.59, его преодолели 2 модели, лучшей из которых, с f1_score 0.614925, оказалась модель случайного леса с n_estimators = 29 и max_depth = 12, обученная на данных, балансировка классов в которых производилась  методом увеличения выборки"
   ]
  },
  {
   "cell_type": "markdown",
   "metadata": {},
   "source": [
    "## Тестирование модели\n",
    "Еще раз обучим наилучшие модели из шага 3. и проверим их на тестовых данных."
   ]
  },
  {
   "cell_type": "markdown",
   "metadata": {},
   "source": [
    "### Подготовка моделей"
   ]
  },
  {
   "cell_type": "code",
   "execution_count": 62,
   "metadata": {},
   "outputs": [],
   "source": [
    "#подготовим модель случайного леса с n_estimators = 29 и max_depth = 12, балансировка методом взвешивания классов\n",
    "#model1 = RandomForestClassifier(random_state=12345, n_estimators=29, max_depth=12, class_weight='balanced')\n",
    "#model1.fit(features_train, target_train)\n",
    "#predictions1 = model1.predict(features_valid)\n",
    "#result = f1_score(predictions1, target_valid)\n",
    "\n",
    "#проверим, что обучение прошло корректно и f1_score совпадает с результатами в п.3\n",
    "#print(f'model1 - модель случайного леса с n_estimators = 29 и max_depth = 12, взвешивание классов, f1_score {result:0.06}')"
   ]
  },
  {
   "cell_type": "code",
   "execution_count": 75,
   "metadata": {},
   "outputs": [
    {
     "name": "stdout",
     "output_type": "stream",
     "text": [
      "модель случайного леса с n_estimators = 29 и max_depth = 12, увеличение выборки, f1_score 0.614925\n"
     ]
    }
   ],
   "source": [
    "#подготовим модель случайного леса с n_estimators = 29 и max_depth = 12, балансировка методом увеличения выборки\n",
    "model2 = RandomForestClassifier(random_state=12345, n_estimators=29, max_depth=12)\n",
    "model2.fit(features_upsampled, target_upsampled)\n",
    "predictions2 = model2.predict(features_valid)\n",
    "result = f1_score(predictions2, target_valid)\n",
    "\n",
    "#проверим, что обучение прошло корректно и f1_score совпадает с результатами в п.3\n",
    "print(f'модель случайного леса с n_estimators = 29 и max_depth = 12, увеличение выборки, f1_score {result:0.06}')"
   ]
  },
  {
   "cell_type": "code",
   "execution_count": 43,
   "metadata": {},
   "outputs": [],
   "source": [
    "#подготовим model3 - модель решающего дерева с max_depth = 7, балансировка методом взвешивания классов\n",
    "#model3 = DecisionTreeClassifier(random_state=12345, max_depth=7, class_weight='balanced')\n",
    "#model3.fit(features_train, target_train)\n",
    "#predictions3 = model3.predict(features_valid)\n",
    "#result = f1_score(predictions3, target_valid)\n",
    "\n",
    "#проверим, что обучение прошло корректно и f1_score совпадает с результатами в п.3\n",
    "#print(f'model3 - модель решающего дерева с max_depth = 7, взвешивание классов, f1_score {result:0.06}')"
   ]
  },
  {
   "cell_type": "markdown",
   "metadata": {},
   "source": [
    "Выводы по п.4.1:\n",
    "- модель для проведения итогового тестирования обучена на подобранных в п.3 параметрах: n_estimators = 29 и max_depth = 12, взвешивание классов, f1_score 0.614925\n",
    "- f1_score соответствует данным из п.3, можно приступать к финальному тестированию"
   ]
  },
  {
   "cell_type": "markdown",
   "metadata": {},
   "source": [
    "### Финальное тестирование"
   ]
  },
  {
   "cell_type": "code",
   "execution_count": 69,
   "metadata": {},
   "outputs": [],
   "source": [
    "#проверим model1 на тестовых данных\n",
    "#predictions1_test = model1.predict(features_test)\n",
    "#result = f1_score(predictions1_test, target_test)\n",
    "\n",
    "#print(f'model1 - модель случайного леса с n_estimators = 29 и max_depth = 12, взвешивание классов, f1_score на тестовых данных {result:0.06}')"
   ]
  },
  {
   "cell_type": "code",
   "execution_count": 72,
   "metadata": {},
   "outputs": [
    {
     "name": "stdout",
     "output_type": "stream",
     "text": [
      "модель случайного леса с n_estimators = 29 и max_depth = 12, увеличение выборки, f1_score на тестовых данных 0.598441\n"
     ]
    }
   ],
   "source": [
    "#проверим model2 на тестовых данных\n",
    "predictions2_test = model2.predict(features_test)\n",
    "result = f1_score(predictions2_test, target_test)\n",
    "\n",
    "print(f'модель случайного леса с n_estimators = 29 и max_depth = 12, увеличение выборки, f1_score на тестовых данных {result:0.06}')"
   ]
  },
  {
   "cell_type": "code",
   "execution_count": 48,
   "metadata": {},
   "outputs": [],
   "source": [
    "#проверим model3 на тестовых данных\n",
    "#predictions3_test = model3.predict(features_test)\n",
    "#result = f1_score(predictions3_test, target_test)\n",
    "\n",
    "#print(f'model3 - модель решающего дерева с max_depth = 7, взвешивание классов, f1_score на тестовых данных {result:0.06}')"
   ]
  },
  {
   "cell_type": "markdown",
   "metadata": {},
   "source": [
    "построим ROC-кривую и проверим метрику AUC-ROC для финальной модели"
   ]
  },
  {
   "cell_type": "code",
   "execution_count": 74,
   "metadata": {},
   "outputs": [],
   "source": [
    "#построим ROC-кривую и проверим метрику AUC-ROC для model1 не тестовых данных\n",
    "# - модель случайного леса с n_estimators = 28 и max_depth = 10, взвешивание классов\n",
    "\n",
    "#probabilities1_test = model1.predict_proba(features_test)\n",
    "#probabilities1_one_test = probabilities1_test[:, 1]\n",
    "\n",
    "#auc_roc = roc_auc_score(target_test, probabilities1_one_test)\n",
    "#print(f'Значение метрики AUC-ROC на тестовых данных для model1: {auc_roc:.6f}')\n",
    "\n",
    "#fpr, tpr, thresholds = roc_curve(target_test, probabilities1_one_test)\n",
    "#plt.figure()\n",
    "#plt.plot(fpr, tpr, linestyle='-')\n",
    "#plt.plot([0, 1], [0, 1], linestyle='--')\n",
    "#plt.xlim(0, 1)\n",
    "#plt.ylim(0, 1)\n",
    "#plt.xlabel('False Positive Rate')\n",
    "#plt.ylabel('True Positive Rate')\n",
    "#plt.title('ROC-кривая')\n",
    "#plt.show()"
   ]
  },
  {
   "cell_type": "code",
   "execution_count": 73,
   "metadata": {},
   "outputs": [
    {
     "name": "stdout",
     "output_type": "stream",
     "text": [
      "Значение метрики AUC-ROC на тестовых данных для model2: 0.852277\n"
     ]
    },
    {
     "data": {
      "image/png": "[encoded data removed]",
      "text/plain": [
       "<Figure size 432x288 with 1 Axes>"
      ]
     },
     "metadata": {
      "needs_background": "light"
     },
     "output_type": "display_data"
    }
   ],
   "source": [
    "#построим ROC-кривую и проверим метрику AUC-ROC для model2 не тестовых данных\n",
    "# - модель случайного леса с n_estimators = 29 и max_depth = 9, увеличение выборки\n",
    "\n",
    "probabilities2_test = model2.predict_proba(features_test)\n",
    "probabilities2_one_test = probabilities2_test[:, 1]\n",
    "\n",
    "auc_roc = roc_auc_score(target_test, probabilities2_one_test)\n",
    "print(f'Значение метрики AUC-ROC на тестовых данных для model2: {auc_roc:.6f}')\n",
    "\n",
    "fpr, tpr, thresholds = roc_curve(target_test, probabilities2_one_test)\n",
    "plt.figure()\n",
    "plt.plot(fpr, tpr, linestyle='-')\n",
    "plt.plot([0, 1], [0, 1], linestyle='--')\n",
    "plt.xlim(0, 1)\n",
    "plt.ylim(0, 1)\n",
    "plt.xlabel('False Positive Rate')\n",
    "plt.ylabel('True Positive Rate')\n",
    "plt.title('ROC-кривая')\n",
    "plt.show()"
   ]
  },
  {
   "cell_type": "markdown",
   "metadata": {},
   "source": [
    "Выводы по п.4.2:\n",
    "- модель случайного леса с n_estimators = 29 и max_depth = 12, увеличение выборки, показала f1_score на тестовых данных 0.598441, этого достаточно для удовлетворения условиям задачи\n",
    "- Значение метрики AUC-ROC на тестовых данных для финальной модели: 0.852277\n"
   ]
  },
  {
   "cell_type": "markdown",
   "metadata": {},
   "source": [
    "<div class=\"alert alert-block alert-info\">\n",
    "<b>Совет:</b> Вычисление/вывод метрик и графиков можно было бы как-то вынести в функцию и избежать дублирования кода и сделать его лаконичнее\n",
    "</div>\n"
   ]
  },
  {
   "cell_type": "markdown",
   "metadata": {},
   "source": [
    "<div class=\"alert alert-block alert-warning\">\n",
    "<b>Комментарий студента:</b>\n",
    "Согласен, что-то в этом есть. Явно одинаковые куски, буду стараться в будущем их выность в функции.\n",
    "</div>"
   ]
  },
  {
   "cell_type": "markdown",
   "metadata": {},
   "source": [
    "<b>Итого по п.4:</b>\n",
    "- модель для проведения итогового тестирования обучена на подобранных в п.3 параметрах: n_estimators = 29 и max_depth = 12, взвешивание классов, f1_score 0.614925\n",
    "- f1_score соответствует данным из п.3, можно приступать к финальному тестированию\n",
    "- модель случайного леса с n_estimators = 29 и max_depth = 12, увеличение выборки, показала f1_score на тестовых данных 0.598441, этого достаточно для удовлетворения условиям задачи\n",
    "- Значение метрики AUC-ROC на тестовых данных для финальной модели: 0.852277"
   ]
  },
  {
   "cell_type": "code",
   "execution_count": 86,
   "metadata": {},
   "outputs": [
    {
     "data": {
      "image/png": "[encoded data removed]",
      "text/plain": [
       "<Figure size 1080x432 with 1 Axes>"
      ]
     },
     "metadata": {
      "needs_background": "light"
     },
     "output_type": "display_data"
    }
   ],
   "source": [
    "importances = model2.feature_importances_\n",
    "forest_importances = pd.Series(importances, index=list(features_test))\n",
    "\n",
    "plt.figure(figsize=(15, 6))\n",
    "forest_importances.plot.bar();\n",
    "plt.title(\"Feature importances using MDI\")\n",
    "plt.ylabel(\"Mean decrease in impurity\")\n",
    "plt.show()"
   ]
  },
  {
   "cell_type": "markdown",
   "metadata": {},
   "source": [
    "## Чек-лист готовности проекта"
   ]
  },
  {
   "cell_type": "markdown",
   "metadata": {},
   "source": [
    "Поставьте 'x' в выполненных пунктах. Далее нажмите Shift+Enter."
   ]
  },
  {
   "cell_type": "markdown",
   "metadata": {},
   "source": [
    "- [x]  Jupyter Notebook открыт\n",
    "- [x]  Весь код выполняется без ошибок\n",
    "- [x]  Ячейки с кодом расположены в порядке исполнения\n",
    "- [x]  Выполнен шаг 1: данные подготовлены\n",
    "- [x]  Выполнен шаг 2: задача исследована\n",
    "    - [x]  Исследован баланс классов\n",
    "    - [x]  Изучены модели без учёта дисбаланса\n",
    "    - [x]  Написаны выводы по результатам исследования\n",
    "- [x]  Выполнен шаг 3: учтён дисбаланс\n",
    "    - [x]  Применено несколько способов борьбы с дисбалансом\n",
    "    - [x]  Написаны выводы по результатам исследования\n",
    "- [x]  Выполнен шаг 4: проведено тестирование\n",
    "- [x]  Удалось достичь *F1*-меры не менее 0.59\n",
    "- [x]  Исследована метрика *AUC-ROC*"
   ]
  },
  {
   "cell_type": "markdown",
   "metadata": {},
   "source": [
    "## Итоговые выводы по проекту"
   ]
  },
  {
   "cell_type": "markdown",
   "metadata": {},
   "source": [
    "- Данные импортированы успешно, набор признаков в датасете совпадает с документацией.\n",
    "- Значения null в признаке Tenure заменили на ноль, в рамках исследования мы будет трактовать клинтов с таким значением признака, как людей, являющихся клиентами банка менее года.\n",
    "- Целевой признак Exited - категориальный (либо клиент ушел из банка, либо нет), значи перед нами в данном исследовании стоит задача классификации.\n",
    "- Поскольку в рамках данного анализа мы будем использовать только модели линейной регрессии, решающего дерева и случайного леса, у нас нет необходимости производить масштабирование (среднее арифметическое = 0, дисперсия = 1), так как данные методы машиного обучения не чувствительны к различию в масштабах признаков.\n",
    "- Отрицательных ответов почти в 4 раза больше, чем положительных - целевой признак нельзя назвать сбалансированным\n",
    "- Без учета дисбаланса классов, исследованы и протестированы 3 модели для задачи классификации:\n",
    "    - Модель решающего дерева\n",
    "    - Модель случайного леса\n",
    "    - Модель логистической регрессии\n",
    "- Для данных с несбалансированными классами наиболее точной оказалась модель случайного леса, показавшая результат f1_score 0.55774 с количеством деревьев равным 19 и максимальной глубиной в 19\n",
    "- Исследовали все модели при балансировании классов с помощью трех методов:\n",
    "    - Метод взвешивания классов\n",
    "    - Метод увеличения выборки\n",
    "    - Метод уменьшения выборки\n",
    "- В рамках исследования лучше всего показали себя модели, обученные на данных, сбалансированных путем взвешивания классов и увеличения выборки\n",
    "- Метод уменьшения выборки показал более низкие результаты, в финальном тестировании его нет смысла использовать\n",
    "- Порог валидности моделей для данной задачи составляет f1_score > 0.59, его преодолели 2 модели:\n",
    "    - Модель случайного леса с n_estimators = 28 и max_depth = 10, обученная на данных, балансировка классов в которых производилась методом взвешивания классов\n",
    "    - Модель случайного леса с n_estimators = 29 и max_depth = 9, обученная на данных, балансировка классов в которых производилась методом увеличения выборки\n",
    "- Модель решающего дерева с max_depth = 7, обученная на данных, балансировка классов в которых производилась методом взвешивания классов, не перешал порог валидности в 0.59, но приблизилась к нему вплотную, проведем финальное тестирование на ней тоже, чтобы проверить, не перейдет ли ее результат за порог валидности для данной задачи.\n",
    "- Результаты проверки моделей на тестовых данных:\n",
    "    - model1 - модель случайного леса с n_estimators = 28 и max_depth = 10, взвешивание классов, f1_score на тестовых данных 0.60166\n",
    "    - model2 - модель случайного леса с n_estimators = 29 и max_depth = 9, увеличение выборки, f1_score на тестовых данных 0.625448\n",
    "    - model3 - модель решающего дерева с max_depth = 7, взвешивание классов, f1_score на тестовых данных 0.57873\n",
    "- Наилучший результат показала model2 c f1_score на тестовых данных 0.625448\n",
    "- model3 показала значение f1_score ниже порога в 0.59, далее мы ее  не рассматриваем\n",
    "- Проверили значение метрики AUC-ROC для двух моделей - model1 и model2:\n",
    "    - AUC-ROC на тестовых данных для model1: 0.855440\n",
    "    - AUC-ROC на тестовых данных для model2: 0.861605\n",
    "- model1 и model2 показали близкие результаты по метрике AUC-ROC и сходные графики ROC-кривых, при этом model2, показавшая более высокий f1_score - показала и более высокий AUC-ROC"
   ]
  }
 ],
 "metadata": {
  "ExecuteTimeLog": [
   {
    "duration": 166,
    "start_time": "2023-07-03T18:01:15.168Z"
   },
   {
    "duration": 163,
    "start_time": "2023-07-03T18:01:32.628Z"
   },
   {
    "duration": 4,
    "start_time": "2023-07-03T18:06:35.209Z"
   },
   {
    "duration": 1757,
    "start_time": "2023-07-03T18:07:11.832Z"
   },
   {
    "duration": 4,
    "start_time": "2023-07-03T18:07:34.302Z"
   },
   {
    "duration": 558,
    "start_time": "2023-07-03T18:08:05.839Z"
   },
   {
    "duration": 2221,
    "start_time": "2023-07-03T18:08:21.894Z"
   },
   {
    "duration": 111,
    "start_time": "2023-07-03T18:45:17.181Z"
   },
   {
    "duration": 20,
    "start_time": "2023-07-03T18:45:22.071Z"
   },
   {
    "duration": 296,
    "start_time": "2023-07-03T18:54:07.659Z"
   },
   {
    "duration": 1644,
    "start_time": "2023-07-03T19:04:24.614Z"
   },
   {
    "duration": 7,
    "start_time": "2023-07-03T19:04:26.265Z"
   },
   {
    "duration": 2212,
    "start_time": "2023-07-03T19:04:26.280Z"
   },
   {
    "duration": 17,
    "start_time": "2023-07-03T19:04:28.497Z"
   },
   {
    "duration": 4,
    "start_time": "2023-07-03T19:04:28.516Z"
   },
   {
    "duration": 353,
    "start_time": "2023-07-03T19:04:28.522Z"
   },
   {
    "duration": 39,
    "start_time": "2023-07-03T19:06:21.603Z"
   },
   {
    "duration": 22,
    "start_time": "2023-07-03T19:06:27.249Z"
   },
   {
    "duration": 23,
    "start_time": "2023-07-03T19:06:40.178Z"
   },
   {
    "duration": 33,
    "start_time": "2023-07-03T19:07:38.428Z"
   },
   {
    "duration": 123,
    "start_time": "2023-07-03T19:57:16.775Z"
   },
   {
    "duration": 33,
    "start_time": "2023-07-03T19:57:26.452Z"
   },
   {
    "duration": 13,
    "start_time": "2023-07-03T19:58:11.074Z"
   },
   {
    "duration": 16,
    "start_time": "2023-07-03T20:01:38.348Z"
   },
   {
    "duration": 16,
    "start_time": "2023-07-03T20:02:18.748Z"
   },
   {
    "duration": 6,
    "start_time": "2023-07-03T20:02:25.645Z"
   },
   {
    "duration": 11,
    "start_time": "2023-07-03T20:02:32.163Z"
   },
   {
    "duration": 17,
    "start_time": "2023-07-03T20:03:18.845Z"
   },
   {
    "duration": 15,
    "start_time": "2023-07-03T20:03:32.066Z"
   },
   {
    "duration": 9,
    "start_time": "2023-07-03T20:03:45.031Z"
   },
   {
    "duration": 9,
    "start_time": "2023-07-03T20:03:58.874Z"
   },
   {
    "duration": 9,
    "start_time": "2023-07-03T20:04:09.875Z"
   },
   {
    "duration": 20,
    "start_time": "2023-07-03T20:04:20.092Z"
   },
   {
    "duration": 11,
    "start_time": "2023-07-03T20:04:24.264Z"
   },
   {
    "duration": 7,
    "start_time": "2023-07-03T20:04:31.535Z"
   },
   {
    "duration": 15,
    "start_time": "2023-07-03T20:04:35.852Z"
   },
   {
    "duration": 12,
    "start_time": "2023-07-03T20:04:42.770Z"
   },
   {
    "duration": 8,
    "start_time": "2023-07-03T20:04:47.181Z"
   },
   {
    "duration": 20,
    "start_time": "2023-07-03T20:05:06.345Z"
   },
   {
    "duration": 9,
    "start_time": "2023-07-03T20:05:09.085Z"
   },
   {
    "duration": 7,
    "start_time": "2023-07-03T20:06:04.038Z"
   },
   {
    "duration": 9,
    "start_time": "2023-07-03T20:27:21.556Z"
   },
   {
    "duration": 131,
    "start_time": "2023-07-03T20:28:36.083Z"
   },
   {
    "duration": 120,
    "start_time": "2023-07-03T20:28:54.127Z"
   },
   {
    "duration": 111,
    "start_time": "2023-07-03T20:30:30.575Z"
   },
   {
    "duration": 33,
    "start_time": "2023-07-03T20:31:07.792Z"
   },
   {
    "duration": 94,
    "start_time": "2023-07-03T20:32:09.552Z"
   },
   {
    "duration": 39,
    "start_time": "2023-07-03T20:32:24.284Z"
   },
   {
    "duration": 34,
    "start_time": "2023-07-03T20:33:30.373Z"
   },
   {
    "duration": 21,
    "start_time": "2023-07-03T20:33:34.036Z"
   },
   {
    "duration": 29,
    "start_time": "2023-07-03T20:34:01.942Z"
   },
   {
    "duration": 7,
    "start_time": "2023-07-03T20:34:17.360Z"
   },
   {
    "duration": 18,
    "start_time": "2023-07-03T20:34:55.909Z"
   },
   {
    "duration": 1229,
    "start_time": "2023-07-03T20:39:54.382Z"
   },
   {
    "duration": 4,
    "start_time": "2023-07-03T20:43:15.624Z"
   },
   {
    "duration": 1596,
    "start_time": "2023-07-03T20:43:25.018Z"
   },
   {
    "duration": 4,
    "start_time": "2023-07-03T20:43:26.616Z"
   },
   {
    "duration": 2517,
    "start_time": "2023-07-03T20:43:26.622Z"
   },
   {
    "duration": 19,
    "start_time": "2023-07-03T20:43:29.141Z"
   },
   {
    "duration": 27,
    "start_time": "2023-07-03T20:43:29.164Z"
   },
   {
    "duration": 20,
    "start_time": "2023-07-03T20:43:29.193Z"
   },
   {
    "duration": 16,
    "start_time": "2023-07-03T20:43:29.215Z"
   },
   {
    "duration": 21,
    "start_time": "2023-07-03T20:43:29.232Z"
   },
   {
    "duration": 18,
    "start_time": "2023-07-03T20:43:29.255Z"
   },
   {
    "duration": 31,
    "start_time": "2023-07-03T20:43:29.275Z"
   },
   {
    "duration": 2335,
    "start_time": "2023-07-03T20:43:29.308Z"
   },
   {
    "duration": 2273,
    "start_time": "2023-07-03T20:44:03.405Z"
   },
   {
    "duration": 121,
    "start_time": "2023-07-03T20:56:27.085Z"
   },
   {
    "duration": 6,
    "start_time": "2023-07-03T20:56:47.483Z"
   },
   {
    "duration": 2071,
    "start_time": "2023-07-03T20:56:51.885Z"
   },
   {
    "duration": 2132,
    "start_time": "2023-07-03T20:57:06.389Z"
   },
   {
    "duration": 1312,
    "start_time": "2023-07-03T20:57:25.350Z"
   },
   {
    "duration": 1229,
    "start_time": "2023-07-03T20:57:36.227Z"
   },
   {
    "duration": 2,
    "start_time": "2023-07-03T21:00:02.539Z"
   },
   {
    "duration": 15,
    "start_time": "2023-07-03T21:00:42.467Z"
   },
   {
    "duration": 34,
    "start_time": "2023-07-03T21:01:10.713Z"
   },
   {
    "duration": 23019,
    "start_time": "2023-07-03T21:01:15.987Z"
   },
   {
    "duration": 30361,
    "start_time": "2023-07-03T21:02:16.767Z"
   },
   {
    "duration": 41786,
    "start_time": "2023-07-03T21:02:57.500Z"
   },
   {
    "duration": 21655,
    "start_time": "2023-07-03T21:03:55.572Z"
   },
   {
    "duration": 87172,
    "start_time": "2023-07-03T21:04:29.797Z"
   },
   {
    "duration": 3,
    "start_time": "2023-07-03T21:06:47.438Z"
   },
   {
    "duration": 31057,
    "start_time": "2023-07-03T21:07:52.913Z"
   },
   {
    "duration": 19072,
    "start_time": "2023-07-03T21:08:34.183Z"
   },
   {
    "duration": 2234,
    "start_time": "2023-07-03T21:09:12.735Z"
   },
   {
    "duration": 2802,
    "start_time": "2023-07-03T21:12:55.257Z"
   },
   {
    "duration": 1508,
    "start_time": "2023-07-03T21:13:32.919Z"
   },
   {
    "duration": 5,
    "start_time": "2023-07-03T21:13:34.429Z"
   },
   {
    "duration": 2202,
    "start_time": "2023-07-03T21:13:34.436Z"
   },
   {
    "duration": 14,
    "start_time": "2023-07-03T21:13:36.641Z"
   },
   {
    "duration": 16,
    "start_time": "2023-07-03T21:13:36.658Z"
   },
   {
    "duration": 21,
    "start_time": "2023-07-03T21:13:36.677Z"
   },
   {
    "duration": 14,
    "start_time": "2023-07-03T21:13:36.699Z"
   },
   {
    "duration": 8,
    "start_time": "2023-07-03T21:13:36.714Z"
   },
   {
    "duration": 14,
    "start_time": "2023-07-03T21:13:36.752Z"
   },
   {
    "duration": 23,
    "start_time": "2023-07-03T21:13:36.768Z"
   },
   {
    "duration": 1251,
    "start_time": "2023-07-03T21:13:36.792Z"
   },
   {
    "duration": 90274,
    "start_time": "2023-07-03T21:13:38.051Z"
   },
   {
    "duration": 2138,
    "start_time": "2023-07-03T21:15:08.327Z"
   },
   {
    "duration": 17330,
    "start_time": "2023-07-03T21:23:49.047Z"
   },
   {
    "duration": 25067,
    "start_time": "2023-07-03T21:25:16.006Z"
   },
   {
    "duration": 114281,
    "start_time": "2023-07-03T21:25:58.984Z"
   },
   {
    "duration": 8279,
    "start_time": "2023-07-03T21:28:29.285Z"
   },
   {
    "duration": 183,
    "start_time": "2023-07-03T21:29:06.975Z"
   },
   {
    "duration": 265,
    "start_time": "2023-07-03T21:29:50.301Z"
   },
   {
    "duration": 2061,
    "start_time": "2023-07-03T21:30:19.598Z"
   },
   {
    "duration": 21385,
    "start_time": "2023-07-03T21:30:48.492Z"
   },
   {
    "duration": 186270,
    "start_time": "2023-07-03T21:41:45.510Z"
   },
   {
    "duration": 33481,
    "start_time": "2023-07-03T21:45:58.244Z"
   },
   {
    "duration": 22107,
    "start_time": "2023-07-03T21:46:42.776Z"
   },
   {
    "duration": 33162,
    "start_time": "2023-07-03T21:47:14.636Z"
   },
   {
    "duration": 3,
    "start_time": "2023-07-03T21:55:06.065Z"
   },
   {
    "duration": 7,
    "start_time": "2023-07-03T21:55:49.974Z"
   },
   {
    "duration": 1188,
    "start_time": "2023-07-03T22:00:58.406Z"
   },
   {
    "duration": 47374,
    "start_time": "2023-07-03T22:01:50.562Z"
   },
   {
    "duration": 9575,
    "start_time": "2023-07-03T22:03:08.089Z"
   },
   {
    "duration": 7109,
    "start_time": "2023-07-03T22:03:25.846Z"
   },
   {
    "duration": 4774,
    "start_time": "2023-07-03T22:03:46.980Z"
   },
   {
    "duration": 7781,
    "start_time": "2023-07-03T22:04:00.474Z"
   },
   {
    "duration": 5,
    "start_time": "2023-07-03T22:10:30.172Z"
   },
   {
    "duration": 5,
    "start_time": "2023-07-03T22:11:58.967Z"
   },
   {
    "duration": 5,
    "start_time": "2023-07-03T22:12:07.020Z"
   },
   {
    "duration": 11,
    "start_time": "2023-07-03T22:13:45.987Z"
   },
   {
    "duration": 1539,
    "start_time": "2023-07-03T22:15:07.923Z"
   },
   {
    "duration": 19,
    "start_time": "2023-07-03T22:16:19.950Z"
   },
   {
    "duration": 17,
    "start_time": "2023-07-03T22:16:32.124Z"
   },
   {
    "duration": 18,
    "start_time": "2023-07-03T22:16:43.677Z"
   },
   {
    "duration": 62817,
    "start_time": "2023-07-03T22:17:12.825Z"
   },
   {
    "duration": 5789,
    "start_time": "2023-07-03T22:18:59.390Z"
   },
   {
    "duration": 20668,
    "start_time": "2023-07-03T22:19:13.300Z"
   },
   {
    "duration": 6048,
    "start_time": "2023-07-03T22:19:42.704Z"
   },
   {
    "duration": 16,
    "start_time": "2023-07-03T22:20:59.732Z"
   },
   {
    "duration": 671,
    "start_time": "2023-07-03T22:22:01.374Z"
   },
   {
    "duration": 634,
    "start_time": "2023-07-03T22:22:29.593Z"
   },
   {
    "duration": 27128,
    "start_time": "2023-07-03T22:22:47.701Z"
   },
   {
    "duration": 3737,
    "start_time": "2023-07-03T22:23:22.220Z"
   },
   {
    "duration": 74,
    "start_time": "2023-07-04T20:16:56.262Z"
   },
   {
    "duration": 1618,
    "start_time": "2023-07-04T20:17:04.893Z"
   },
   {
    "duration": 4,
    "start_time": "2023-07-04T20:17:06.512Z"
   },
   {
    "duration": 38,
    "start_time": "2023-07-04T20:17:06.517Z"
   },
   {
    "duration": 59,
    "start_time": "2023-07-04T20:17:06.556Z"
   },
   {
    "duration": 1983,
    "start_time": "2023-07-04T20:17:06.617Z"
   },
   {
    "duration": 12,
    "start_time": "2023-07-04T20:17:08.602Z"
   },
   {
    "duration": 46,
    "start_time": "2023-07-04T20:17:08.615Z"
   },
   {
    "duration": 48,
    "start_time": "2023-07-04T20:17:08.663Z"
   },
   {
    "duration": 23,
    "start_time": "2023-07-04T20:17:08.715Z"
   },
   {
    "duration": 27,
    "start_time": "2023-07-04T20:17:08.739Z"
   },
   {
    "duration": 47,
    "start_time": "2023-07-04T20:17:08.767Z"
   },
   {
    "duration": 34,
    "start_time": "2023-07-04T20:17:08.816Z"
   },
   {
    "duration": 1234,
    "start_time": "2023-07-04T20:17:08.852Z"
   },
   {
    "duration": 47279,
    "start_time": "2023-07-04T20:17:10.090Z"
   },
   {
    "duration": 4622,
    "start_time": "2023-07-04T20:17:57.371Z"
   },
   {
    "duration": 1284,
    "start_time": "2023-07-04T20:18:01.998Z"
   },
   {
    "duration": 44302,
    "start_time": "2023-07-04T20:18:03.286Z"
   },
   {
    "duration": 7505,
    "start_time": "2023-07-04T20:18:47.589Z"
   },
   {
    "duration": 190,
    "start_time": "2023-07-04T20:18:55.096Z"
   },
   {
    "duration": 1561,
    "start_time": "2023-07-04T20:18:55.288Z"
   },
   {
    "duration": 57386,
    "start_time": "2023-07-04T20:18:56.851Z"
   },
   {
    "duration": 6150,
    "start_time": "2023-07-04T20:19:54.238Z"
   },
   {
    "duration": 185,
    "start_time": "2023-07-04T20:20:00.390Z"
   },
   {
    "duration": 728,
    "start_time": "2023-07-04T20:20:00.582Z"
   },
   {
    "duration": 25936,
    "start_time": "2023-07-04T20:20:01.312Z"
   },
   {
    "duration": 4331,
    "start_time": "2023-07-04T20:20:27.250Z"
   },
   {
    "duration": 104,
    "start_time": "2023-07-04T20:20:31.583Z"
   },
   {
    "duration": 160,
    "start_time": "2023-07-04T20:21:41.754Z"
   },
   {
    "duration": 181,
    "start_time": "2023-07-04T20:21:57.228Z"
   },
   {
    "duration": 165,
    "start_time": "2023-07-04T20:22:41.266Z"
   },
   {
    "duration": 159,
    "start_time": "2023-07-04T20:23:48.311Z"
   },
   {
    "duration": 181,
    "start_time": "2023-07-04T20:24:21.476Z"
   },
   {
    "duration": 228,
    "start_time": "2023-07-04T20:24:22.960Z"
   },
   {
    "duration": 217,
    "start_time": "2023-07-04T20:24:46.149Z"
   },
   {
    "duration": 169,
    "start_time": "2023-07-04T20:25:07.798Z"
   },
   {
    "duration": 213,
    "start_time": "2023-07-04T20:25:29.200Z"
   },
   {
    "duration": 222,
    "start_time": "2023-07-04T20:25:43.965Z"
   },
   {
    "duration": 215,
    "start_time": "2023-07-04T20:25:47.026Z"
   },
   {
    "duration": 175,
    "start_time": "2023-07-04T20:26:03.133Z"
   },
   {
    "duration": 183,
    "start_time": "2023-07-04T20:26:59.773Z"
   },
   {
    "duration": 218,
    "start_time": "2023-07-04T20:27:01.207Z"
   },
   {
    "duration": 18,
    "start_time": "2023-07-04T20:28:44.832Z"
   },
   {
    "duration": 220,
    "start_time": "2023-07-04T20:29:00.789Z"
   },
   {
    "duration": 19,
    "start_time": "2023-07-04T20:29:04.525Z"
   },
   {
    "duration": 19,
    "start_time": "2023-07-04T20:29:12.532Z"
   },
   {
    "duration": 20,
    "start_time": "2023-07-04T20:29:23.514Z"
   },
   {
    "duration": 45,
    "start_time": "2023-07-04T20:32:37.767Z"
   },
   {
    "duration": 33,
    "start_time": "2023-07-04T20:33:00.011Z"
   },
   {
    "duration": 9,
    "start_time": "2023-07-04T20:33:23.316Z"
   },
   {
    "duration": 8,
    "start_time": "2023-07-04T20:33:51.128Z"
   },
   {
    "duration": 22,
    "start_time": "2023-07-04T20:34:21.047Z"
   },
   {
    "duration": 27,
    "start_time": "2023-07-04T20:34:41.661Z"
   },
   {
    "duration": 10,
    "start_time": "2023-07-04T20:34:56.218Z"
   },
   {
    "duration": 7,
    "start_time": "2023-07-04T20:39:37.875Z"
   },
   {
    "duration": 5,
    "start_time": "2023-07-04T20:46:13.494Z"
   },
   {
    "duration": 5,
    "start_time": "2023-07-04T20:47:41.817Z"
   },
   {
    "duration": 8,
    "start_time": "2023-07-04T20:51:26.374Z"
   },
   {
    "duration": 31,
    "start_time": "2023-07-04T20:52:55.308Z"
   },
   {
    "duration": 150,
    "start_time": "2023-07-04T20:54:05.456Z"
   },
   {
    "duration": 148,
    "start_time": "2023-07-04T20:54:59.045Z"
   },
   {
    "duration": 161,
    "start_time": "2023-07-04T20:55:06.272Z"
   },
   {
    "duration": 151,
    "start_time": "2023-07-04T20:55:34.668Z"
   },
   {
    "duration": 154,
    "start_time": "2023-07-04T20:55:54.481Z"
   },
   {
    "duration": 195,
    "start_time": "2023-07-04T20:57:16.393Z"
   },
   {
    "duration": 145,
    "start_time": "2023-07-04T20:57:17.997Z"
   },
   {
    "duration": 245,
    "start_time": "2023-07-04T21:00:27.797Z"
   },
   {
    "duration": 117,
    "start_time": "2023-07-04T21:03:03.498Z"
   },
   {
    "duration": 4,
    "start_time": "2023-07-06T19:31:05.264Z"
   },
   {
    "duration": 1747,
    "start_time": "2023-07-06T19:31:12.539Z"
   },
   {
    "duration": 5,
    "start_time": "2023-07-06T19:31:14.289Z"
   },
   {
    "duration": 9,
    "start_time": "2023-07-06T19:31:14.295Z"
   },
   {
    "duration": 10,
    "start_time": "2023-07-06T19:31:14.306Z"
   },
   {
    "duration": 2106,
    "start_time": "2023-07-06T19:31:14.318Z"
   },
   {
    "duration": 3,
    "start_time": "2023-07-06T19:31:16.427Z"
   },
   {
    "duration": 29,
    "start_time": "2023-07-06T19:31:16.432Z"
   },
   {
    "duration": 36,
    "start_time": "2023-07-06T19:31:16.462Z"
   },
   {
    "duration": 32,
    "start_time": "2023-07-06T19:31:16.501Z"
   },
   {
    "duration": 12,
    "start_time": "2023-07-06T19:31:16.535Z"
   },
   {
    "duration": 8,
    "start_time": "2023-07-06T19:31:16.549Z"
   },
   {
    "duration": 35,
    "start_time": "2023-07-06T19:31:16.559Z"
   },
   {
    "duration": 148,
    "start_time": "2023-07-06T19:31:16.596Z"
   },
   {
    "duration": 0,
    "start_time": "2023-07-06T19:31:16.746Z"
   },
   {
    "duration": 0,
    "start_time": "2023-07-06T19:31:16.747Z"
   },
   {
    "duration": 0,
    "start_time": "2023-07-06T19:31:16.748Z"
   },
   {
    "duration": 0,
    "start_time": "2023-07-06T19:31:16.750Z"
   },
   {
    "duration": 0,
    "start_time": "2023-07-06T19:31:16.751Z"
   },
   {
    "duration": 0,
    "start_time": "2023-07-06T19:31:16.752Z"
   },
   {
    "duration": 0,
    "start_time": "2023-07-06T19:31:16.752Z"
   },
   {
    "duration": 0,
    "start_time": "2023-07-06T19:31:16.753Z"
   },
   {
    "duration": 0,
    "start_time": "2023-07-06T19:31:16.754Z"
   },
   {
    "duration": 0,
    "start_time": "2023-07-06T19:31:16.755Z"
   },
   {
    "duration": 0,
    "start_time": "2023-07-06T19:31:16.776Z"
   },
   {
    "duration": 0,
    "start_time": "2023-07-06T19:31:16.777Z"
   },
   {
    "duration": 1,
    "start_time": "2023-07-06T19:31:16.778Z"
   },
   {
    "duration": 0,
    "start_time": "2023-07-06T19:31:16.780Z"
   },
   {
    "duration": 0,
    "start_time": "2023-07-06T19:31:16.781Z"
   },
   {
    "duration": 0,
    "start_time": "2023-07-06T19:31:16.783Z"
   },
   {
    "duration": 0,
    "start_time": "2023-07-06T19:31:16.784Z"
   },
   {
    "duration": 0,
    "start_time": "2023-07-06T19:31:16.785Z"
   },
   {
    "duration": 0,
    "start_time": "2023-07-06T19:31:16.787Z"
   },
   {
    "duration": 0,
    "start_time": "2023-07-06T19:31:16.788Z"
   },
   {
    "duration": 0,
    "start_time": "2023-07-06T19:31:16.789Z"
   },
   {
    "duration": 5,
    "start_time": "2023-07-06T19:37:16.954Z"
   },
   {
    "duration": 13,
    "start_time": "2023-07-06T19:37:53.153Z"
   },
   {
    "duration": 1447,
    "start_time": "2023-07-06T19:38:08.731Z"
   },
   {
    "duration": 4,
    "start_time": "2023-07-06T19:38:11.403Z"
   },
   {
    "duration": 7,
    "start_time": "2023-07-06T19:38:12.079Z"
   },
   {
    "duration": 4,
    "start_time": "2023-07-06T19:38:13.328Z"
   },
   {
    "duration": 1934,
    "start_time": "2023-07-06T19:38:16.990Z"
   },
   {
    "duration": 15,
    "start_time": "2023-07-06T19:38:21.768Z"
   },
   {
    "duration": 18,
    "start_time": "2023-07-06T19:48:43.830Z"
   },
   {
    "duration": 5,
    "start_time": "2023-07-06T20:12:05.055Z"
   },
   {
    "duration": 126,
    "start_time": "2023-07-06T20:20:47.211Z"
   },
   {
    "duration": 106,
    "start_time": "2023-07-06T20:20:55.143Z"
   },
   {
    "duration": 14,
    "start_time": "2023-07-06T20:21:11.211Z"
   },
   {
    "duration": 13,
    "start_time": "2023-07-06T20:21:14.259Z"
   },
   {
    "duration": 18,
    "start_time": "2023-07-06T20:21:18.319Z"
   },
   {
    "duration": 17,
    "start_time": "2023-07-06T20:21:21.175Z"
   },
   {
    "duration": 7,
    "start_time": "2023-07-06T20:21:23.299Z"
   },
   {
    "duration": 4,
    "start_time": "2023-07-06T20:21:29.003Z"
   },
   {
    "duration": 16,
    "start_time": "2023-07-06T20:21:30.451Z"
   },
   {
    "duration": 12,
    "start_time": "2023-07-06T20:21:32.689Z"
   },
   {
    "duration": 999,
    "start_time": "2023-07-06T20:22:16.649Z"
   },
   {
    "duration": 42866,
    "start_time": "2023-07-06T20:22:23.695Z"
   },
   {
    "duration": 2968,
    "start_time": "2023-07-06T20:23:24.517Z"
   },
   {
    "duration": 14,
    "start_time": "2023-07-06T20:26:29.857Z"
   },
   {
    "duration": 147,
    "start_time": "2023-07-06T20:26:36.397Z"
   },
   {
    "duration": 108,
    "start_time": "2023-07-06T20:26:44.229Z"
   },
   {
    "duration": 131,
    "start_time": "2023-07-06T20:26:55.502Z"
   },
   {
    "duration": 139,
    "start_time": "2023-07-06T20:27:02.161Z"
   },
   {
    "duration": 130,
    "start_time": "2023-07-06T20:27:20.203Z"
   },
   {
    "duration": 353,
    "start_time": "2023-07-06T20:27:30.253Z"
   },
   {
    "duration": 93,
    "start_time": "2023-07-06T20:30:30.793Z"
   },
   {
    "duration": 1092,
    "start_time": "2023-07-06T20:32:59.822Z"
   },
   {
    "duration": 100,
    "start_time": "2023-07-06T20:33:39.138Z"
   },
   {
    "duration": 42243,
    "start_time": "2023-07-06T20:33:53.859Z"
   },
   {
    "duration": 4027,
    "start_time": "2023-07-06T20:35:12.152Z"
   },
   {
    "duration": 13,
    "start_time": "2023-07-06T20:37:23.966Z"
   },
   {
    "duration": 15,
    "start_time": "2023-07-06T20:37:40.686Z"
   },
   {
    "duration": 7,
    "start_time": "2023-07-06T20:42:56.705Z"
   },
   {
    "duration": 17,
    "start_time": "2023-07-06T20:43:13.948Z"
   },
   {
    "duration": 10,
    "start_time": "2023-07-06T20:44:58.704Z"
   },
   {
    "duration": 11,
    "start_time": "2023-07-06T20:45:13.704Z"
   },
   {
    "duration": 17,
    "start_time": "2023-07-06T20:45:27.841Z"
   },
   {
    "duration": 1430,
    "start_time": "2023-07-06T20:45:44.276Z"
   },
   {
    "duration": 4,
    "start_time": "2023-07-06T20:45:45.708Z"
   },
   {
    "duration": 21,
    "start_time": "2023-07-06T20:45:45.713Z"
   },
   {
    "duration": 19,
    "start_time": "2023-07-06T20:45:45.736Z"
   },
   {
    "duration": 1787,
    "start_time": "2023-07-06T20:45:45.757Z"
   },
   {
    "duration": 2,
    "start_time": "2023-07-06T20:45:47.545Z"
   },
   {
    "duration": 21,
    "start_time": "2023-07-06T20:45:47.549Z"
   },
   {
    "duration": 15,
    "start_time": "2023-07-06T20:45:47.571Z"
   },
   {
    "duration": 16,
    "start_time": "2023-07-06T20:45:47.588Z"
   },
   {
    "duration": 18,
    "start_time": "2023-07-06T20:45:47.606Z"
   },
   {
    "duration": 6,
    "start_time": "2023-07-06T20:45:47.625Z"
   },
   {
    "duration": 8,
    "start_time": "2023-07-06T20:45:47.632Z"
   },
   {
    "duration": 40,
    "start_time": "2023-07-06T20:45:47.641Z"
   },
   {
    "duration": 12,
    "start_time": "2023-07-06T20:45:47.684Z"
   },
   {
    "duration": 1096,
    "start_time": "2023-07-06T20:45:47.697Z"
   },
   {
    "duration": 126,
    "start_time": "2023-07-06T20:45:48.795Z"
   },
   {
    "duration": 43214,
    "start_time": "2023-07-06T20:45:48.923Z"
   },
   {
    "duration": 138,
    "start_time": "2023-07-06T20:46:32.139Z"
   },
   {
    "duration": 5207,
    "start_time": "2023-07-06T20:46:32.279Z"
   },
   {
    "duration": 304,
    "start_time": "2023-07-06T20:46:37.576Z"
   },
   {
    "duration": 1095,
    "start_time": "2023-07-06T20:46:37.882Z"
   },
   {
    "duration": 42771,
    "start_time": "2023-07-06T20:46:38.979Z"
   },
   {
    "duration": 5129,
    "start_time": "2023-07-06T20:47:21.751Z"
   },
   {
    "duration": 113,
    "start_time": "2023-07-06T20:47:26.882Z"
   },
   {
    "duration": 1379,
    "start_time": "2023-07-06T20:47:26.997Z"
   },
   {
    "duration": 55338,
    "start_time": "2023-07-06T20:47:28.378Z"
   },
   {
    "duration": 7366,
    "start_time": "2023-07-06T20:48:23.718Z"
   },
   {
    "duration": 304,
    "start_time": "2023-07-06T20:48:31.086Z"
   },
   {
    "duration": 0,
    "start_time": "2023-07-06T20:48:31.392Z"
   },
   {
    "duration": 0,
    "start_time": "2023-07-06T20:48:31.393Z"
   },
   {
    "duration": 0,
    "start_time": "2023-07-06T20:48:31.395Z"
   },
   {
    "duration": 0,
    "start_time": "2023-07-06T20:48:31.396Z"
   },
   {
    "duration": 0,
    "start_time": "2023-07-06T20:48:31.397Z"
   },
   {
    "duration": 0,
    "start_time": "2023-07-06T20:48:31.398Z"
   },
   {
    "duration": 0,
    "start_time": "2023-07-06T20:48:31.399Z"
   },
   {
    "duration": 0,
    "start_time": "2023-07-06T20:48:31.400Z"
   },
   {
    "duration": 0,
    "start_time": "2023-07-06T20:48:31.401Z"
   },
   {
    "duration": 0,
    "start_time": "2023-07-06T20:48:31.402Z"
   },
   {
    "duration": 0,
    "start_time": "2023-07-06T20:48:31.404Z"
   },
   {
    "duration": 12,
    "start_time": "2023-07-06T20:51:52.993Z"
   },
   {
    "duration": 12,
    "start_time": "2023-07-06T20:55:53.809Z"
   },
   {
    "duration": 1372,
    "start_time": "2023-07-06T20:56:15.644Z"
   },
   {
    "duration": 3,
    "start_time": "2023-07-06T20:56:17.019Z"
   },
   {
    "duration": 10,
    "start_time": "2023-07-06T20:56:17.023Z"
   },
   {
    "duration": 9,
    "start_time": "2023-07-06T20:56:17.034Z"
   },
   {
    "duration": 1695,
    "start_time": "2023-07-06T20:56:17.045Z"
   },
   {
    "duration": 3,
    "start_time": "2023-07-06T20:56:18.741Z"
   },
   {
    "duration": 19,
    "start_time": "2023-07-06T20:56:18.745Z"
   },
   {
    "duration": 25,
    "start_time": "2023-07-06T20:56:18.766Z"
   },
   {
    "duration": 28,
    "start_time": "2023-07-06T20:56:18.792Z"
   },
   {
    "duration": 22,
    "start_time": "2023-07-06T20:56:18.822Z"
   },
   {
    "duration": 8,
    "start_time": "2023-07-06T20:56:18.846Z"
   },
   {
    "duration": 10,
    "start_time": "2023-07-06T20:56:18.855Z"
   },
   {
    "duration": 17,
    "start_time": "2023-07-06T20:56:18.867Z"
   },
   {
    "duration": 18,
    "start_time": "2023-07-06T20:56:18.886Z"
   },
   {
    "duration": 1069,
    "start_time": "2023-07-06T20:56:18.906Z"
   },
   {
    "duration": 123,
    "start_time": "2023-07-06T20:56:19.977Z"
   },
   {
    "duration": 43708,
    "start_time": "2023-07-06T20:56:20.102Z"
   },
   {
    "duration": 143,
    "start_time": "2023-07-06T20:57:03.812Z"
   },
   {
    "duration": 4926,
    "start_time": "2023-07-06T20:57:03.957Z"
   },
   {
    "duration": 395,
    "start_time": "2023-07-06T20:57:08.885Z"
   },
   {
    "duration": 1085,
    "start_time": "2023-07-06T20:57:09.282Z"
   },
   {
    "duration": 42444,
    "start_time": "2023-07-06T20:57:10.375Z"
   },
   {
    "duration": 5060,
    "start_time": "2023-07-06T20:57:52.821Z"
   },
   {
    "duration": 105,
    "start_time": "2023-07-06T20:57:57.886Z"
   },
   {
    "duration": 1467,
    "start_time": "2023-07-06T20:57:57.993Z"
   },
   {
    "duration": 54690,
    "start_time": "2023-07-06T20:57:59.462Z"
   },
   {
    "duration": 7627,
    "start_time": "2023-07-06T20:58:54.154Z"
   },
   {
    "duration": 213,
    "start_time": "2023-07-06T20:59:01.786Z"
   },
   {
    "duration": 0,
    "start_time": "2023-07-06T20:59:02.001Z"
   },
   {
    "duration": 0,
    "start_time": "2023-07-06T20:59:02.002Z"
   },
   {
    "duration": 0,
    "start_time": "2023-07-06T20:59:02.003Z"
   },
   {
    "duration": 0,
    "start_time": "2023-07-06T20:59:02.004Z"
   },
   {
    "duration": 0,
    "start_time": "2023-07-06T20:59:02.005Z"
   },
   {
    "duration": 0,
    "start_time": "2023-07-06T20:59:02.007Z"
   },
   {
    "duration": 0,
    "start_time": "2023-07-06T20:59:02.008Z"
   },
   {
    "duration": 0,
    "start_time": "2023-07-06T20:59:02.009Z"
   },
   {
    "duration": 0,
    "start_time": "2023-07-06T20:59:02.010Z"
   },
   {
    "duration": 0,
    "start_time": "2023-07-06T20:59:02.011Z"
   },
   {
    "duration": 0,
    "start_time": "2023-07-06T20:59:02.013Z"
   },
   {
    "duration": 17,
    "start_time": "2023-07-06T20:59:24.344Z"
   },
   {
    "duration": 18,
    "start_time": "2023-07-06T20:59:59.647Z"
   },
   {
    "duration": 10,
    "start_time": "2023-07-06T21:01:09.854Z"
   },
   {
    "duration": 16,
    "start_time": "2023-07-06T21:01:34.281Z"
   },
   {
    "duration": 18,
    "start_time": "2023-07-06T21:02:43.113Z"
   },
   {
    "duration": 14,
    "start_time": "2023-07-06T21:02:59.669Z"
   },
   {
    "duration": 15,
    "start_time": "2023-07-06T21:03:06.139Z"
   },
   {
    "duration": 1294,
    "start_time": "2023-07-06T21:03:10.268Z"
   },
   {
    "duration": 55837,
    "start_time": "2023-07-06T21:03:19.347Z"
   },
   {
    "duration": 55835,
    "start_time": "2023-07-06T21:05:26.250Z"
   },
   {
    "duration": 5979,
    "start_time": "2023-07-06T21:06:34.207Z"
   },
   {
    "duration": 14,
    "start_time": "2023-07-06T21:06:48.709Z"
   },
   {
    "duration": 594,
    "start_time": "2023-07-06T21:06:51.994Z"
   },
   {
    "duration": 24609,
    "start_time": "2023-07-06T21:06:59.445Z"
   },
   {
    "duration": 3979,
    "start_time": "2023-07-06T21:07:52.007Z"
   },
   {
    "duration": 156,
    "start_time": "2023-07-06T21:13:13.025Z"
   },
   {
    "duration": 154,
    "start_time": "2023-07-06T21:13:51.596Z"
   },
   {
    "duration": 141,
    "start_time": "2023-07-06T21:13:53.280Z"
   },
   {
    "duration": 43613,
    "start_time": "2023-07-06T21:14:23.107Z"
   },
   {
    "duration": 1314,
    "start_time": "2023-07-06T21:16:07.453Z"
   },
   {
    "duration": 4,
    "start_time": "2023-07-06T21:16:08.769Z"
   },
   {
    "duration": 7,
    "start_time": "2023-07-06T21:16:08.774Z"
   },
   {
    "duration": 11,
    "start_time": "2023-07-06T21:16:08.783Z"
   },
   {
    "duration": 1772,
    "start_time": "2023-07-06T21:16:08.796Z"
   },
   {
    "duration": 3,
    "start_time": "2023-07-06T21:16:10.570Z"
   },
   {
    "duration": 20,
    "start_time": "2023-07-06T21:16:10.575Z"
   },
   {
    "duration": 15,
    "start_time": "2023-07-06T21:16:10.597Z"
   },
   {
    "duration": 16,
    "start_time": "2023-07-06T21:16:10.614Z"
   },
   {
    "duration": 27,
    "start_time": "2023-07-06T21:16:10.632Z"
   },
   {
    "duration": 15,
    "start_time": "2023-07-06T21:16:10.661Z"
   },
   {
    "duration": 4,
    "start_time": "2023-07-06T21:16:10.677Z"
   },
   {
    "duration": 30,
    "start_time": "2023-07-06T21:16:10.683Z"
   },
   {
    "duration": 7,
    "start_time": "2023-07-06T21:16:10.716Z"
   },
   {
    "duration": 33,
    "start_time": "2023-07-06T21:16:10.724Z"
   },
   {
    "duration": 1101,
    "start_time": "2023-07-06T21:16:10.758Z"
   },
   {
    "duration": 117,
    "start_time": "2023-07-06T21:16:11.860Z"
   },
   {
    "duration": 42210,
    "start_time": "2023-07-06T21:16:11.978Z"
   },
   {
    "duration": 122,
    "start_time": "2023-07-06T21:16:54.190Z"
   },
   {
    "duration": 5668,
    "start_time": "2023-07-06T21:16:54.313Z"
   },
   {
    "duration": 392,
    "start_time": "2023-07-06T21:16:59.985Z"
   },
   {
    "duration": 1096,
    "start_time": "2023-07-06T21:17:00.379Z"
   },
   {
    "duration": 41605,
    "start_time": "2023-07-06T21:17:01.477Z"
   },
   {
    "duration": 4796,
    "start_time": "2023-07-06T21:17:43.083Z"
   },
   {
    "duration": 99,
    "start_time": "2023-07-06T21:17:47.881Z"
   },
   {
    "duration": 1304,
    "start_time": "2023-07-06T21:17:47.982Z"
   },
   {
    "duration": 55305,
    "start_time": "2023-07-06T21:17:49.288Z"
   },
   {
    "duration": 6082,
    "start_time": "2023-07-06T21:18:44.595Z"
   },
   {
    "duration": 101,
    "start_time": "2023-07-06T21:18:50.678Z"
   },
   {
    "duration": 597,
    "start_time": "2023-07-06T21:18:50.780Z"
   },
   {
    "duration": 24470,
    "start_time": "2023-07-06T21:18:51.378Z"
   },
   {
    "duration": 3827,
    "start_time": "2023-07-06T21:19:15.849Z"
   },
   {
    "duration": 241,
    "start_time": "2023-07-06T21:19:19.678Z"
   },
   {
    "duration": 204,
    "start_time": "2023-07-06T21:19:19.920Z"
   },
   {
    "duration": 28,
    "start_time": "2023-07-06T21:19:20.126Z"
   },
   {
    "duration": 29,
    "start_time": "2023-07-06T21:19:20.156Z"
   },
   {
    "duration": 25,
    "start_time": "2023-07-06T21:19:20.186Z"
   },
   {
    "duration": 22,
    "start_time": "2023-07-06T21:19:20.213Z"
   },
   {
    "duration": 155,
    "start_time": "2023-07-06T21:19:20.237Z"
   },
   {
    "duration": 125,
    "start_time": "2023-07-06T21:19:20.393Z"
   },
   {
    "duration": 139,
    "start_time": "2023-07-06T21:21:52.784Z"
   },
   {
    "duration": 3,
    "start_time": "2023-07-06T21:22:07.872Z"
   },
   {
    "duration": 2,
    "start_time": "2023-07-06T21:22:16.053Z"
   },
   {
    "duration": 162,
    "start_time": "2023-07-06T21:23:55.438Z"
   },
   {
    "duration": 19,
    "start_time": "2023-07-06T21:24:33.649Z"
   },
   {
    "duration": 20,
    "start_time": "2023-07-06T21:24:38.060Z"
   },
   {
    "duration": 3,
    "start_time": "2023-07-06T21:25:08.648Z"
   },
   {
    "duration": 2,
    "start_time": "2023-07-06T21:25:10.092Z"
   },
   {
    "duration": 17,
    "start_time": "2023-07-06T21:25:22.868Z"
   },
   {
    "duration": 3,
    "start_time": "2023-07-06T21:26:41.683Z"
   },
   {
    "duration": 123,
    "start_time": "2023-07-06T21:27:07.805Z"
   },
   {
    "duration": 119,
    "start_time": "2023-07-06T21:27:10.612Z"
   },
   {
    "duration": 8,
    "start_time": "2023-07-07T17:33:44.184Z"
   },
   {
    "duration": 1672,
    "start_time": "2023-07-07T17:34:16.392Z"
   },
   {
    "duration": 4,
    "start_time": "2023-07-07T17:34:20.132Z"
   },
   {
    "duration": 4,
    "start_time": "2023-07-07T17:34:21.843Z"
   },
   {
    "duration": 4,
    "start_time": "2023-07-07T17:34:24.245Z"
   },
   {
    "duration": 5,
    "start_time": "2023-07-07T17:34:25.938Z"
   },
   {
    "duration": 2375,
    "start_time": "2023-07-07T17:34:29.628Z"
   },
   {
    "duration": 3,
    "start_time": "2023-07-07T17:34:39.577Z"
   },
   {
    "duration": 474,
    "start_time": "2023-07-07T17:34:44.104Z"
   },
   {
    "duration": 3,
    "start_time": "2023-07-07T17:34:53.397Z"
   },
   {
    "duration": 3,
    "start_time": "2023-07-07T17:36:17.471Z"
   },
   {
    "duration": 18,
    "start_time": "2023-07-07T17:36:19.091Z"
   },
   {
    "duration": 3,
    "start_time": "2023-07-07T17:36:34.215Z"
   },
   {
    "duration": 2,
    "start_time": "2023-07-07T17:36:41.790Z"
   },
   {
    "duration": 21,
    "start_time": "2023-07-07T17:36:43.166Z"
   },
   {
    "duration": 14,
    "start_time": "2023-07-07T17:39:09.154Z"
   },
   {
    "duration": 16,
    "start_time": "2023-07-07T17:39:19.386Z"
   },
   {
    "duration": 19,
    "start_time": "2023-07-07T17:39:22.088Z"
   },
   {
    "duration": 14,
    "start_time": "2023-07-07T17:39:36.915Z"
   },
   {
    "duration": 1526,
    "start_time": "2023-07-07T17:39:56.766Z"
   },
   {
    "duration": 4,
    "start_time": "2023-07-07T17:40:00.035Z"
   },
   {
    "duration": 4,
    "start_time": "2023-07-07T17:40:03.390Z"
   },
   {
    "duration": 4,
    "start_time": "2023-07-07T17:40:05.168Z"
   },
   {
    "duration": 2070,
    "start_time": "2023-07-07T17:40:08.307Z"
   },
   {
    "duration": 3,
    "start_time": "2023-07-07T17:40:15.401Z"
   },
   {
    "duration": 18,
    "start_time": "2023-07-07T17:40:17.123Z"
   },
   {
    "duration": 17,
    "start_time": "2023-07-07T17:40:21.985Z"
   },
   {
    "duration": 16,
    "start_time": "2023-07-07T17:40:25.280Z"
   },
   {
    "duration": 19,
    "start_time": "2023-07-07T17:40:32.693Z"
   },
   {
    "duration": 15,
    "start_time": "2023-07-07T17:40:43.201Z"
   },
   {
    "duration": 8,
    "start_time": "2023-07-07T17:40:46.806Z"
   },
   {
    "duration": 5,
    "start_time": "2023-07-07T17:40:55.486Z"
   },
   {
    "duration": 1838,
    "start_time": "2023-07-07T17:40:56.494Z"
   },
   {
    "duration": 19,
    "start_time": "2023-07-07T17:41:21.458Z"
   },
   {
    "duration": 7,
    "start_time": "2023-07-07T17:41:26.944Z"
   },
   {
    "duration": 15,
    "start_time": "2023-07-07T17:41:29.158Z"
   },
   {
    "duration": 924,
    "start_time": "2023-07-07T17:42:15.083Z"
   },
   {
    "duration": 134,
    "start_time": "2023-07-07T17:42:24.227Z"
   },
   {
    "duration": 40069,
    "start_time": "2023-07-07T17:42:26.728Z"
   },
   {
    "duration": 151,
    "start_time": "2023-07-07T17:43:21.413Z"
   },
   {
    "duration": 3773,
    "start_time": "2023-07-07T17:43:23.878Z"
   },
   {
    "duration": 247,
    "start_time": "2023-07-07T17:43:28.813Z"
   },
   {
    "duration": 126,
    "start_time": "2023-07-07T17:46:16.999Z"
   },
   {
    "duration": 118,
    "start_time": "2023-07-07T17:46:28.910Z"
   },
   {
    "duration": 243,
    "start_time": "2023-07-07T17:46:38.825Z"
   },
   {
    "duration": 148,
    "start_time": "2023-07-07T17:47:10.321Z"
   },
   {
    "duration": 118,
    "start_time": "2023-07-07T17:48:11.371Z"
   },
   {
    "duration": 161,
    "start_time": "2023-07-07T17:48:23.547Z"
   },
   {
    "duration": 140,
    "start_time": "2023-07-07T17:48:31.988Z"
   },
   {
    "duration": 243,
    "start_time": "2023-07-07T17:48:36.699Z"
   },
   {
    "duration": 948,
    "start_time": "2023-07-07T17:53:06.143Z"
   },
   {
    "duration": 119,
    "start_time": "2023-07-07T17:53:11.898Z"
   },
   {
    "duration": 42189,
    "start_time": "2023-07-07T17:53:13.848Z"
   },
   {
    "duration": 134,
    "start_time": "2023-07-07T17:54:16.479Z"
   },
   {
    "duration": 3263,
    "start_time": "2023-07-07T17:54:18.497Z"
   },
   {
    "duration": 240,
    "start_time": "2023-07-07T17:54:22.712Z"
   },
   {
    "duration": 953,
    "start_time": "2023-07-07T17:54:27.195Z"
   },
   {
    "duration": 42767,
    "start_time": "2023-07-07T17:54:35.247Z"
   },
   {
    "duration": 18,
    "start_time": "2023-07-07T17:55:42.392Z"
   },
   {
    "duration": 1094,
    "start_time": "2023-07-07T17:55:45.836Z"
   },
   {
    "duration": 53766,
    "start_time": "2023-07-07T17:55:50.470Z"
   },
   {
    "duration": 55775,
    "start_time": "2023-07-07T17:59:36.739Z"
   },
   {
    "duration": 3471,
    "start_time": "2023-07-07T18:01:49.930Z"
   },
   {
    "duration": 15,
    "start_time": "2023-07-07T18:02:05.134Z"
   },
   {
    "duration": 1220,
    "start_time": "2023-07-07T18:02:06.907Z"
   },
   {
    "duration": 54114,
    "start_time": "2023-07-07T18:02:12.952Z"
   },
   {
    "duration": 4414,
    "start_time": "2023-07-07T18:03:16.638Z"
   },
   {
    "duration": 16,
    "start_time": "2023-07-07T18:03:31.602Z"
   },
   {
    "duration": 571,
    "start_time": "2023-07-07T18:03:33.341Z"
   },
   {
    "duration": 26333,
    "start_time": "2023-07-07T18:03:44.400Z"
   },
   {
    "duration": 2908,
    "start_time": "2023-07-07T18:05:07.646Z"
   },
   {
    "duration": 202,
    "start_time": "2023-07-07T18:08:39.448Z"
   },
   {
    "duration": 3,
    "start_time": "2023-07-07T18:09:38.701Z"
   },
   {
    "duration": 249,
    "start_time": "2023-07-07T18:10:22.635Z"
   },
   {
    "duration": 243,
    "start_time": "2023-07-07T18:10:54.980Z"
   },
   {
    "duration": 23,
    "start_time": "2023-07-07T18:11:00.733Z"
   },
   {
    "duration": 230,
    "start_time": "2023-07-07T18:11:33.776Z"
   },
   {
    "duration": 31,
    "start_time": "2023-07-07T18:12:18.477Z"
   },
   {
    "duration": 168,
    "start_time": "2023-07-07T18:12:33.996Z"
   },
   {
    "duration": 27,
    "start_time": "2023-07-07T18:12:40.249Z"
   },
   {
    "duration": 3,
    "start_time": "2023-07-07T18:13:33.663Z"
   },
   {
    "duration": 210,
    "start_time": "2023-07-07T18:13:36.027Z"
   },
   {
    "duration": 23,
    "start_time": "2023-07-07T18:13:45.088Z"
   },
   {
    "duration": 225,
    "start_time": "2023-07-07T18:14:57.575Z"
   },
   {
    "duration": 230,
    "start_time": "2023-07-07T18:15:03.088Z"
   },
   {
    "duration": 21,
    "start_time": "2023-07-07T18:15:10.319Z"
   },
   {
    "duration": 25,
    "start_time": "2023-07-07T18:15:13.085Z"
   },
   {
    "duration": 12,
    "start_time": "2023-07-07T18:15:16.650Z"
   },
   {
    "duration": 24,
    "start_time": "2023-07-07T18:15:21.580Z"
   },
   {
    "duration": 20,
    "start_time": "2023-07-07T18:15:48.982Z"
   },
   {
    "duration": 25,
    "start_time": "2023-07-07T18:16:05.086Z"
   },
   {
    "duration": 135,
    "start_time": "2023-07-07T18:18:05.432Z"
   },
   {
    "duration": 2,
    "start_time": "2023-07-07T18:18:07.864Z"
   },
   {
    "duration": 208,
    "start_time": "2023-07-07T18:18:59.663Z"
   },
   {
    "duration": 15,
    "start_time": "2023-07-07T18:23:08.289Z"
   },
   {
    "duration": 16,
    "start_time": "2023-07-07T18:24:24.963Z"
   },
   {
    "duration": 123,
    "start_time": "2023-07-07T18:27:28.931Z"
   },
   {
    "duration": 289,
    "start_time": "2023-07-07T18:28:16.071Z"
   },
   {
    "duration": 297,
    "start_time": "2023-07-07T18:28:59.057Z"
   },
   {
    "duration": 291,
    "start_time": "2023-07-07T18:29:01.977Z"
   },
   {
    "duration": 121,
    "start_time": "2023-07-07T18:29:08.638Z"
   },
   {
    "duration": 296,
    "start_time": "2023-07-07T18:29:28.231Z"
   },
   {
    "duration": 155,
    "start_time": "2023-07-07T18:30:32.990Z"
   },
   {
    "duration": 138,
    "start_time": "2023-07-07T18:30:40.214Z"
   },
   {
    "duration": 184,
    "start_time": "2023-07-07T18:31:00.074Z"
   }
  ],
  "kernelspec": {
   "display_name": "Python 3 (ipykernel)",
   "language": "python",
   "name": "python3"
  },
  "language_info": {
   "codemirror_mode": {
    "name": "ipython",
    "version": 3
   },
   "file_extension": ".py",
   "mimetype": "text/x-python",
   "name": "python",
   "nbconvert_exporter": "python",
   "pygments_lexer": "ipython3",
   "version": "3.11.5"
  },
  "toc": {
   "base_numbering": 1,
   "nav_menu": {},
   "number_sections": true,
   "sideBar": true,
   "skip_h1_title": true,
   "title_cell": "Содержание",
   "title_sidebar": "Contents",
   "toc_cell": true,
   "toc_position": {
    "height": "calc(100% - 180px)",
    "left": "10px",
    "top": "150px",
    "width": "238px"
   },
   "toc_section_display": true,
   "toc_window_display": true
  }
 },
 "nbformat": 4,
 "nbformat_minor": 4
}
